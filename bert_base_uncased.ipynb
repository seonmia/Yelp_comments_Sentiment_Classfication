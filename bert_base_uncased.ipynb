{
  "cells": [
    {
      "cell_type": "markdown",
      "metadata": {
        "id": "view-in-github",
        "colab_type": "text"
      },
      "source": [
        "<a href=\"https://colab.research.google.com/github/seonmia/Yelp_comments_Sentimental_Classfication/blob/main/bert_base_uncased.ipynb\" target=\"_parent\"><img src=\"https://colab.research.google.com/assets/colab-badge.svg\" alt=\"Open In Colab\"/></a>"
      ]
    },
    {
      "cell_type": "markdown",
      "source": [
        "# Hyperparameters"
      ],
      "metadata": {
        "id": "vJ43LxNsKJiJ"
      }
    },
    {
      "cell_type": "code",
      "source": [
        "used_model = 'bert-base-uncased'\n",
        "cased = False if 'uncased' in used_model else True\n",
        "\n",
        "train_batch_size = 32\n",
        "eval_batch_size = 32\n",
        "test_batch_size = 32\n",
        "\n",
        "learning_rate = 5e-5\n",
        "train_epoch = 3\n",
        "weight_decay = 0.001\n",
        "\n",
        "wandb_project = \"final_project1\" # WandB에 넣어둘 프로젝트 이름 \n",
        "wandb_team = \"goorm-project-nlp-team-1\" # WandB 팀명"
      ],
      "metadata": {
        "id": "M7TG0QXCHWX8"
      },
      "execution_count": null,
      "outputs": []
    },
    {
      "cell_type": "markdown",
      "metadata": {
        "id": "TH32rzgprvgM"
      },
      "source": [
        "# Import requirements"
      ]
    },
    {
      "cell_type": "code",
      "execution_count": null,
      "metadata": {
        "colab": {
          "base_uri": "https://localhost:8080/"
        },
        "id": "v2IdVbV6hTg1",
        "outputId": "b9a8603a-bf45-41e7-e136-e13e05d773ff"
      },
      "outputs": [
        {
          "output_type": "stream",
          "name": "stdout",
          "text": [
            "Mounted at /content/drive\n"
          ]
        }
      ],
      "source": [
        "from google.colab import drive\n",
        "drive.mount('/content/drive')"
      ]
    },
    {
      "cell_type": "code",
      "execution_count": null,
      "metadata": {
        "id": "G9EvC1HBuf41"
      },
      "outputs": [],
      "source": [
        "!pip install transformers"
      ]
    },
    {
      "cell_type": "code",
      "execution_count": null,
      "metadata": {
        "id": "EItvx07sjVCj",
        "colab": {
          "base_uri": "https://localhost:8080/"
        },
        "outputId": "8ba1de0c-b43f-42e6-935e-9919b8a2fa20"
      },
      "outputs": [
        {
          "output_type": "stream",
          "name": "stdout",
          "text": [
            "Installing collected packages: smmap, gitdb, shortuuid, setproctitle, sentry-sdk, pathtools, GitPython, docker-pycreds, wandb\n",
            "Successfully installed GitPython-3.1.27 docker-pycreds-0.4.0 gitdb-4.0.9 pathtools-0.1.2 sentry-sdk-1.7.2 setproctitle-1.2.3 shortuuid-1.0.9 smmap-5.0.0 wandb-0.12.21\n"
          ]
        }
      ],
      "source": [
        "!pip install wandb"
      ]
    },
    {
      "cell_type": "code",
      "execution_count": null,
      "metadata": {
        "id": "AAdLxrUZrvgP"
      },
      "outputs": [],
      "source": [
        "import os\n",
        "import pdb\n",
        "import argparse\n",
        "from dataclasses import dataclass, field\n",
        "from typing import Optional\n",
        "from collections import defaultdict\n",
        "import wandb\n",
        "from time import time\n",
        "\n",
        "import torch\n",
        "from torch.nn.utils.rnn import pad_sequence\n",
        "\n",
        "import numpy as np\n",
        "from tqdm import tqdm, trange\n",
        "from transformers import (\n",
        "    BertForSequenceClassification,\n",
        "    BertTokenizer,\n",
        "    AutoConfig,\n",
        "    AdamW,\n",
        ")"
      ]
    },
    {
      "cell_type": "code",
      "execution_count": null,
      "metadata": {
        "colab": {
          "base_uri": "https://localhost:8080/",
          "height": 71
        },
        "id": "BnXg5J6ry6B_",
        "outputId": "05787288-610d-4b17-f2bf-89a72dada9e5"
      },
      "outputs": [
        {
          "output_type": "display_data",
          "data": {
            "text/plain": [
              "<IPython.core.display.Javascript object>"
            ],
            "application/javascript": [
              "\n",
              "        window._wandbApiKey = new Promise((resolve, reject) => {\n",
              "            function loadScript(url) {\n",
              "            return new Promise(function(resolve, reject) {\n",
              "                let newScript = document.createElement(\"script\");\n",
              "                newScript.onerror = reject;\n",
              "                newScript.onload = resolve;\n",
              "                document.body.appendChild(newScript);\n",
              "                newScript.src = url;\n",
              "            });\n",
              "            }\n",
              "            loadScript(\"https://cdn.jsdelivr.net/npm/postmate/build/postmate.min.js\").then(() => {\n",
              "            const iframe = document.createElement('iframe')\n",
              "            iframe.style.cssText = \"width:0;height:0;border:none\"\n",
              "            document.body.appendChild(iframe)\n",
              "            const handshake = new Postmate({\n",
              "                container: iframe,\n",
              "                url: 'https://wandb.ai/authorize'\n",
              "            });\n",
              "            const timeout = setTimeout(() => reject(\"Couldn't auto authenticate\"), 5000)\n",
              "            handshake.then(function(child) {\n",
              "                child.on('authorize', data => {\n",
              "                    clearTimeout(timeout)\n",
              "                    resolve(data)\n",
              "                });\n",
              "            });\n",
              "            })\n",
              "        });\n",
              "    "
            ]
          },
          "metadata": {}
        },
        {
          "output_type": "stream",
          "name": "stderr",
          "text": [
            "\u001b[34m\u001b[1mwandb\u001b[0m: Appending key for api.wandb.ai to your netrc file: /root/.netrc\n"
          ]
        },
        {
          "output_type": "execute_result",
          "data": {
            "text/plain": [
              "True"
            ]
          },
          "metadata": {},
          "execution_count": 6
        }
      ],
      "source": [
        "wandb.login() "
      ]
    },
    {
      "cell_type": "code",
      "execution_count": null,
      "metadata": {
        "colab": {
          "base_uri": "https://localhost:8080/"
        },
        "id": "Mui8EzDphdkV",
        "outputId": "f0e0b1b4-61d0-4a10-c5a2-a6ea327dd711"
      },
      "outputs": [
        {
          "output_type": "stream",
          "name": "stdout",
          "text": [
            "/content/drive/.shortcut-targets-by-id/1ovgSHdL_LDsDV-KWBQ2NNEs2v8Mpi0fm/GoormProject1/goorm-project-1-text-classification\n"
          ]
        }
      ],
      "source": [
        "%cd /content/drive/MyDrive/GoormProject1/goorm-project-1-text-classification"
      ]
    },
    {
      "cell_type": "code",
      "execution_count": null,
      "metadata": {
        "colab": {
          "base_uri": "https://localhost:8080/"
        },
        "id": "M-5mHo4piL_-",
        "outputId": "43d3ff80-a2bf-4ebd-b4a4-d91c325f7706"
      },
      "outputs": [
        {
          "output_type": "stream",
          "name": "stdout",
          "text": [
            "pytorch_model.bin  sentiment.train.0\t  submission.csv\n",
            "sentiment.dev.0    sentiment.train.1\t  test_no_label.csv\n",
            "sentiment.dev.1    submission_albert.csv  wandb\n"
          ]
        }
      ],
      "source": [
        "!ls"
      ]
    },
    {
      "cell_type": "markdown",
      "metadata": {
        "id": "ASWOOmXqrvgQ"
      },
      "source": [
        "# 1. Preprocess"
      ]
    },
    {
      "cell_type": "code",
      "execution_count": null,
      "metadata": {
        "id": "RAnU6w29rvgR"
      },
      "outputs": [],
      "source": [
        "def make_id_file(task, tokenizer, cased):\n",
        "    def make_data_strings(file_name, cased):\n",
        "        data_strings = []\n",
        "        with open(os.path.join(file_name), 'r', encoding='utf-8') as f:\n",
        "            id_file_data = [tokenizer.encode(line if cased else line.lower()) for line in f.readlines()]\n",
        "        for item in id_file_data:\n",
        "            data_strings.append(' '.join([str(k) for k in item]))\n",
        "        return data_strings\n",
        "  \n",
        "    print('it will take some times...')\n",
        "    train_pos = make_data_strings('sentiment.train.1', cased)\n",
        "    train_neg = make_data_strings('sentiment.train.0', cased)\n",
        "    dev_pos = make_data_strings('sentiment.dev.1', cased)\n",
        "    dev_neg = make_data_strings('sentiment.dev.0', cased)\n",
        "\n",
        "    print('make id file finished!')\n",
        "    return train_pos, train_neg, dev_pos, dev_neg"
      ]
    },
    {
      "cell_type": "code",
      "execution_count": null,
      "metadata": {
        "id": "Ui2HOCflrvgR",
        "colab": {
          "base_uri": "https://localhost:8080/",
          "height": 113,
          "referenced_widgets": [
            "19122a5f5fac4ef6873627438f323959",
            "3c93b5d224434a6a931ab9ec6ea61889",
            "4571620ba18e4da1a6b8e48e62c643ce",
            "ca9d7476746e4b2dbc56d80fc10a1a7d",
            "33494b52a6ef4ac89cb1d5e08ca18bce",
            "85c5f26acf7a42fd86655ab2bac657be",
            "0c1d9a16032041a9b052e277e28bf5c4",
            "8d465a9bd8b6459f81f7bb6c01c5b9e3",
            "5635b03a02c944708472c0d3bc130f5b",
            "53843fe440674014b8d871cc7ce5ea9c",
            "f24921fd38e24bb2bf0d73c7b607206b",
            "e2f4972cae5841cf911a812b3a9c7315",
            "93d9e7911e2d44148eabd505c31af668",
            "f27fb91eadb448e18db025845e6b9251",
            "64aa5759b7ea4309871d87c2ad90ccdd",
            "27b9b2b68e3848059e260b0fd31bf891",
            "e945fd373c994108a758025f92d77f59",
            "6809edc69f254734a81183da77884b2c",
            "5d0785562f70489c8f7aea7fd3d68b0d",
            "0b25c422f9084c778c6418a04b5f4580",
            "ab50cdaeb7414f748bff82ac922d1bf4",
            "3b69460cf2a848ec93076dde360d46b4",
            "1220e870166c4adca23a4bb46efb62bd",
            "8c114053eaa840cfb5c986255f8b7c35",
            "5c6b527c3cfa4812b0129a1240eef829",
            "96d3ed2f3b0f46249f1a196ffdeaacca",
            "40979c71845a40e18bd0b9159de23fcc",
            "94916673e23e4890b9d041964778c2da",
            "23b80a140b0d4a29ba471f9620d37683",
            "4f92f898c4ed4247a2f01348dde6608f",
            "2dcc8fcb92b6424d92126f4db7fcd0c0",
            "806331c6fb6849ac8714f65052f0cc47",
            "e3919c5c14e0446ca243268db883080b"
          ]
        },
        "outputId": "4fde0bca-d03b-4c8d-d932-f86ea9f7b5d2"
      },
      "outputs": [
        {
          "output_type": "display_data",
          "data": {
            "text/plain": [
              "Downloading:   0%|          | 0.00/226k [00:00<?, ?B/s]"
            ],
            "application/vnd.jupyter.widget-view+json": {
              "version_major": 2,
              "version_minor": 0,
              "model_id": "19122a5f5fac4ef6873627438f323959"
            }
          },
          "metadata": {}
        },
        {
          "output_type": "display_data",
          "data": {
            "text/plain": [
              "Downloading:   0%|          | 0.00/28.0 [00:00<?, ?B/s]"
            ],
            "application/vnd.jupyter.widget-view+json": {
              "version_major": 2,
              "version_minor": 0,
              "model_id": "e2f4972cae5841cf911a812b3a9c7315"
            }
          },
          "metadata": {}
        },
        {
          "output_type": "display_data",
          "data": {
            "text/plain": [
              "Downloading:   0%|          | 0.00/570 [00:00<?, ?B/s]"
            ],
            "application/vnd.jupyter.widget-view+json": {
              "version_major": 2,
              "version_minor": 0,
              "model_id": "1220e870166c4adca23a4bb46efb62bd"
            }
          },
          "metadata": {}
        }
      ],
      "source": [
        "tokenizer = BertTokenizer.from_pretrained(used_model)"
      ]
    },
    {
      "cell_type": "code",
      "execution_count": null,
      "metadata": {
        "colab": {
          "base_uri": "https://localhost:8080/"
        },
        "id": "BAgztXIBrvgS",
        "outputId": "31814098-5dcb-47da-f01d-56db77d4b08d"
      },
      "outputs": [
        {
          "output_type": "stream",
          "name": "stdout",
          "text": [
            "it will take some times...\n",
            "make id file finished!\n"
          ]
        }
      ],
      "source": [
        "train_pos, train_neg, dev_pos, dev_neg = make_id_file('yelp', tokenizer, cased)"
      ]
    },
    {
      "cell_type": "code",
      "execution_count": null,
      "metadata": {
        "id": "JdpQQQMUrvgT"
      },
      "outputs": [],
      "source": [
        "class SentimentDataset(object):\n",
        "    #  def __init__(self, pos, neg):\n",
        "    def __init__(self, tokenizer, pos, neg):\n",
        "        self.tokenizer = tokenizer\n",
        "        self.data = []\n",
        "        self.label = []\n",
        "\n",
        "        for pos_sent in pos:\n",
        "            self.data += [self._cast_to_int(pos_sent.strip().split())]\n",
        "            self.label += [[1]]\n",
        "        for neg_sent in neg:\n",
        "            self.data += [self._cast_to_int(neg_sent.strip().split())]\n",
        "            self.label += [[0]]\n",
        "    def _cast_to_int(self, sample):\n",
        "        return [int(word_id) for word_id in sample]\n",
        "    def __len__(self):\n",
        "        return len(self.data)\n",
        "    def __getitem__(self, index):\n",
        "         sample = self.data[index]\n",
        "         return np.array(sample), np.array(self.label[index])         "
      ]
    },
    {
      "cell_type": "code",
      "execution_count": null,
      "metadata": {
        "id": "wCz5ey8xrvgU"
      },
      "outputs": [],
      "source": [
        "train_dataset = SentimentDataset(tokenizer, train_pos, train_neg)\n",
        "dev_dataset = SentimentDataset(tokenizer, dev_pos, dev_neg)"
      ]
    },
    {
      "cell_type": "code",
      "execution_count": null,
      "metadata": {
        "id": "UuvkMczvrvgU"
      },
      "outputs": [],
      "source": [
        "for i, item in enumerate(train_dataset):\n",
        "    print(item)\n",
        "    if i == 10:\n",
        "        break"
      ]
    },
    {
      "cell_type": "code",
      "execution_count": null,
      "metadata": {
        "id": "B0wRUBYSrvgU"
      },
      "outputs": [],
      "source": [
        "def collate_fn_style(samples):\n",
        "    input_ids, labels = zip(*samples)\n",
        "    max_len = max(len(input_id) for input_id in input_ids)\n",
        "    attention_mask = torch.tensor([[1] * len(input_id) + [0] * (max_len - len(input_id)) for input_id in input_ids])\n",
        "    input_ids = pad_sequence([torch.tensor(input_id) for input_id in input_ids],\n",
        "                             batch_first=True)\n",
        "    \n",
        "    token_type_ids = torch.tensor([[0] * len(input_id) for input_id in input_ids])\n",
        "    position_ids = torch.tensor([list(range(len(input_id))) for input_id in input_ids])\n",
        "    labels = torch.tensor(np.stack(labels, axis=0))\n",
        "\n",
        "    return input_ids, attention_mask, token_type_ids, position_ids, labels"
      ]
    },
    {
      "cell_type": "code",
      "execution_count": null,
      "metadata": {
        "id": "5saagig0rvgV"
      },
      "outputs": [],
      "source": [
        "train_loader = torch.utils.data.DataLoader(train_dataset,\n",
        "                                           batch_size=train_batch_size,\n",
        "                                           shuffle=True, collate_fn=collate_fn_style,\n",
        "                                           pin_memory=True, num_workers=2)\n",
        "dev_loader = torch.utils.data.DataLoader(dev_dataset, batch_size=eval_batch_size,\n",
        "                                         shuffle=False, collate_fn=collate_fn_style,\n",
        "                                         num_workers=2)"
      ]
    },
    {
      "cell_type": "markdown",
      "source": [
        "# 2. Train"
      ],
      "metadata": {
        "id": "O3eFDUI9T3K6"
      }
    },
    {
      "cell_type": "code",
      "execution_count": null,
      "metadata": {
        "id": "zvFqCaCnrvgW"
      },
      "outputs": [],
      "source": [
        "random_seed=42\n",
        "np.random.seed(random_seed)\n",
        "torch.manual_seed(random_seed)\n",
        "\n",
        "device = torch.device('cuda' if torch.cuda.is_available() else 'cpu')\n",
        "\n",
        "model = BertForSequenceClassification.from_pretrained(used_model)\n",
        "model.to(device)"
      ]
    },
    {
      "cell_type": "code",
      "execution_count": null,
      "metadata": {
        "id": "dWwhmyMyrvgW",
        "colab": {
          "base_uri": "https://localhost:8080/"
        },
        "outputId": "67a611ad-3837-46fd-ad02-0c65a2c48287"
      },
      "outputs": [
        {
          "output_type": "stream",
          "name": "stderr",
          "text": [
            "/usr/local/lib/python3.7/dist-packages/transformers/optimization.py:310: FutureWarning: This implementation of AdamW is deprecated and will be removed in a future version. Use the PyTorch implementation torch.optim.AdamW instead, or set `no_deprecation_warning=True` to disable this warning\n",
            "  FutureWarning,\n"
          ]
        }
      ],
      "source": [
        "model.train()\n",
        "\n",
        "optimizer = AdamW(model.parameters(), lr=learning_rate)\n",
        "# optimizer = AdamW(model.parameters(), lr=learning_rate, weight_decay=weight_decay)"
      ]
    },
    {
      "cell_type": "code",
      "execution_count": null,
      "metadata": {
        "id": "MztU-L83rvgW"
      },
      "outputs": [],
      "source": [
        "def compute_acc(predictions, target_labels):\n",
        "    return (np.array(predictions) == np.array(target_labels)).mean()"
      ]
    },
    {
      "cell_type": "code",
      "execution_count": null,
      "metadata": {
        "id": "1d-r7h94k8-y"
      },
      "outputs": [],
      "source": [
        "wandb.init(project=wandb_project, name=used_model+' '+str(int(time()))[-3:], entity=wandb_team)"
      ]
    },
    {
      "cell_type": "code",
      "execution_count": null,
      "metadata": {
        "colab": {
          "base_uri": "https://localhost:8080/"
        },
        "id": "DuZfvzpGrvgW",
        "outputId": "0c2d8ec5-1fd5-4aa5-d26c-80c576c5c74c"
      },
      "outputs": [
        {
          "output_type": "stream",
          "name": "stderr",
          "text": [
            "Epoch 0:  20%|█▉        | 2770/13852 [04:47<19:03,  9.69batch/s, loss=0.0239]\n",
            "Eval:   0%|          | 0/125 [00:00<?, ?it/s]\u001b[A\n",
            "Eval:   1%|          | 1/125 [00:00<00:14,  8.62it/s]\u001b[A\n",
            "Eval:   4%|▍         | 5/125 [00:00<00:04, 24.49it/s]\u001b[A\n",
            "Eval:   7%|▋         | 9/125 [00:00<00:03, 29.75it/s]\u001b[A\n",
            "Eval:  10%|█         | 13/125 [00:00<00:03, 31.96it/s]\u001b[A\n",
            "Eval:  14%|█▎        | 17/125 [00:00<00:03, 33.65it/s]\u001b[A\n",
            "Eval:  17%|█▋        | 21/125 [00:00<00:03, 33.52it/s]\u001b[A\n",
            "Eval:  20%|██        | 25/125 [00:00<00:02, 34.14it/s]\u001b[A\n",
            "Eval:  23%|██▎       | 29/125 [00:00<00:02, 35.32it/s]\u001b[A\n",
            "Eval:  26%|██▋       | 33/125 [00:01<00:02, 35.28it/s]\u001b[A\n",
            "Eval:  30%|██▉       | 37/125 [00:01<00:02, 36.31it/s]\u001b[A\n",
            "Eval:  33%|███▎      | 41/125 [00:01<00:02, 35.76it/s]\u001b[A\n",
            "Eval:  36%|███▌      | 45/125 [00:01<00:02, 36.17it/s]\u001b[A\n",
            "Eval:  39%|███▉      | 49/125 [00:01<00:02, 35.98it/s]\u001b[A\n",
            "Eval:  42%|████▏     | 53/125 [00:01<00:02, 35.38it/s]\u001b[A\n",
            "Eval:  46%|████▌     | 57/125 [00:01<00:01, 36.08it/s]\u001b[A\n",
            "Eval:  49%|████▉     | 61/125 [00:01<00:01, 36.20it/s]\u001b[A\n",
            "Eval:  52%|█████▏    | 65/125 [00:01<00:01, 35.58it/s]\u001b[A\n",
            "Eval:  55%|█████▌    | 69/125 [00:02<00:01, 34.69it/s]\u001b[A\n",
            "Eval:  58%|█████▊    | 73/125 [00:02<00:01, 33.85it/s]\u001b[A\n",
            "Eval:  62%|██████▏   | 77/125 [00:02<00:01, 32.95it/s]\u001b[A\n",
            "Eval:  65%|██████▍   | 81/125 [00:02<00:01, 32.98it/s]\u001b[A\n",
            "Eval:  68%|██████▊   | 85/125 [00:02<00:01, 32.93it/s]\u001b[A\n",
            "Eval:  71%|███████   | 89/125 [00:02<00:01, 32.71it/s]\u001b[A\n",
            "Eval:  74%|███████▍  | 93/125 [00:02<00:00, 32.60it/s]\u001b[A\n",
            "Eval:  78%|███████▊  | 97/125 [00:02<00:00, 32.98it/s]\u001b[A\n",
            "Eval:  81%|████████  | 101/125 [00:03<00:00, 32.34it/s]\u001b[A\n",
            "Eval:  84%|████████▍ | 105/125 [00:03<00:00, 32.40it/s]\u001b[A\n",
            "Eval:  87%|████████▋ | 109/125 [00:03<00:00, 32.48it/s]\u001b[A\n",
            "Eval:  90%|█████████ | 113/125 [00:03<00:00, 31.89it/s]\u001b[A\n",
            "Eval:  94%|█████████▎| 117/125 [00:03<00:00, 32.14it/s]\u001b[A\n",
            "Eval:  97%|█████████▋| 121/125 [00:03<00:00, 32.61it/s]\u001b[A\n",
            "Eval: 100%|██████████| 125/125 [00:03<00:00, 32.79it/s]\u001b[A\n",
            "                                                       \u001b[A"
          ]
        },
        {
          "output_type": "stream",
          "name": "stdout",
          "text": [
            "Acc for model which have lower valid loss:  0.97\n"
          ]
        },
        {
          "output_type": "stream",
          "name": "stderr",
          "text": [
            "Epoch 0:  40%|███▉      | 5540/13852 [09:36<14:27,  9.59batch/s, loss=0.031] \n",
            "Eval:   0%|          | 0/125 [00:00<?, ?it/s]\u001b[A\n",
            "Eval:   1%|          | 1/125 [00:00<00:13,  8.94it/s]\u001b[A\n",
            "Eval:   4%|▍         | 5/125 [00:00<00:04, 25.58it/s]\u001b[A\n",
            "Eval:   7%|▋         | 9/125 [00:00<00:03, 31.04it/s]\u001b[A\n",
            "Eval:  10%|█         | 13/125 [00:00<00:03, 32.36it/s]\u001b[A\n",
            "Eval:  14%|█▎        | 17/125 [00:00<00:03, 34.15it/s]\u001b[A\n",
            "Eval:  17%|█▋        | 21/125 [00:00<00:03, 33.97it/s]\u001b[A\n",
            "Eval:  20%|██        | 25/125 [00:00<00:02, 34.54it/s]\u001b[A\n",
            "Eval:  23%|██▎       | 29/125 [00:00<00:02, 35.62it/s]\u001b[A\n",
            "Eval:  26%|██▋       | 33/125 [00:01<00:02, 35.05it/s]\u001b[A\n",
            "Eval:  30%|██▉       | 37/125 [00:01<00:02, 36.27it/s]\u001b[A\n",
            "Eval:  33%|███▎      | 41/125 [00:01<00:02, 35.87it/s]\u001b[A\n",
            "Eval:  36%|███▌      | 45/125 [00:01<00:02, 36.37it/s]\u001b[A\n",
            "Eval:  39%|███▉      | 49/125 [00:01<00:02, 36.01it/s]\u001b[A\n",
            "Eval:  42%|████▏     | 53/125 [00:01<00:02, 35.19it/s]\u001b[A\n",
            "Eval:  46%|████▌     | 57/125 [00:01<00:01, 35.69it/s]\u001b[A\n",
            "Eval:  49%|████▉     | 61/125 [00:01<00:01, 36.20it/s]\u001b[A\n",
            "Eval:  52%|█████▏    | 65/125 [00:01<00:01, 35.57it/s]\u001b[A\n",
            "Eval:  55%|█████▌    | 69/125 [00:02<00:01, 34.93it/s]\u001b[A\n",
            "Eval:  58%|█████▊    | 73/125 [00:02<00:01, 34.25it/s]\u001b[A\n",
            "Eval:  62%|██████▏   | 77/125 [00:02<00:01, 33.37it/s]\u001b[A\n",
            "Eval:  65%|██████▍   | 81/125 [00:02<00:01, 33.35it/s]\u001b[A\n",
            "Eval:  68%|██████▊   | 85/125 [00:02<00:01, 33.35it/s]\u001b[A\n",
            "Eval:  71%|███████   | 89/125 [00:02<00:01, 32.92it/s]\u001b[A\n",
            "Eval:  74%|███████▍  | 93/125 [00:02<00:00, 32.33it/s]\u001b[A\n",
            "Eval:  78%|███████▊  | 97/125 [00:02<00:00, 32.25it/s]\u001b[A\n",
            "Eval:  81%|████████  | 101/125 [00:03<00:00, 32.12it/s]\u001b[A\n",
            "Eval:  84%|████████▍ | 105/125 [00:03<00:00, 32.21it/s]\u001b[A\n",
            "Eval:  87%|████████▋ | 109/125 [00:03<00:00, 32.36it/s]\u001b[A\n",
            "Eval:  90%|█████████ | 113/125 [00:03<00:00, 31.78it/s]\u001b[A\n",
            "Eval:  94%|█████████▎| 117/125 [00:03<00:00, 31.77it/s]\u001b[A\n",
            "Eval:  97%|█████████▋| 121/125 [00:03<00:00, 32.02it/s]\u001b[A\n",
            "Eval: 100%|██████████| 125/125 [00:03<00:00, 32.12it/s]\u001b[A\n",
            "                                                       \u001b[A"
          ]
        },
        {
          "output_type": "stream",
          "name": "stdout",
          "text": [
            "Acc for model which have lower valid loss:  0.9765\n"
          ]
        },
        {
          "output_type": "stream",
          "name": "stderr",
          "text": [
            "Epoch 0:  60%|█████▉    | 8310/13852 [14:26<09:31,  9.71batch/s, loss=0.0894]\n",
            "Eval:   0%|          | 0/125 [00:00<?, ?it/s]\u001b[A\n",
            "Eval:   1%|          | 1/125 [00:00<00:14,  8.85it/s]\u001b[A\n",
            "Eval:   4%|▍         | 5/125 [00:00<00:04, 25.27it/s]\u001b[A\n",
            "Eval:   7%|▋         | 9/125 [00:00<00:03, 30.55it/s]\u001b[A\n",
            "Eval:  10%|█         | 13/125 [00:00<00:03, 32.68it/s]\u001b[A\n",
            "Eval:  14%|█▎        | 17/125 [00:00<00:03, 34.33it/s]\u001b[A\n",
            "Eval:  17%|█▋        | 21/125 [00:00<00:03, 34.04it/s]\u001b[A\n",
            "Eval:  20%|██        | 25/125 [00:00<00:02, 34.69it/s]\u001b[A\n",
            "Eval:  23%|██▎       | 29/125 [00:00<00:02, 35.42it/s]\u001b[A\n",
            "Eval:  26%|██▋       | 33/125 [00:01<00:02, 34.98it/s]\u001b[A\n",
            "Eval:  30%|██▉       | 37/125 [00:01<00:02, 36.23it/s]\u001b[A\n",
            "Eval:  33%|███▎      | 41/125 [00:01<00:02, 35.97it/s]\u001b[A\n",
            "Eval:  36%|███▌      | 45/125 [00:01<00:02, 36.51it/s]\u001b[A\n",
            "Eval:  39%|███▉      | 49/125 [00:01<00:02, 36.19it/s]\u001b[A\n",
            "Eval:  42%|████▏     | 53/125 [00:01<00:02, 35.15it/s]\u001b[A\n",
            "Eval:  46%|████▌     | 57/125 [00:01<00:01, 35.73it/s]\u001b[A\n",
            "Eval:  49%|████▉     | 61/125 [00:01<00:01, 35.16it/s]\u001b[A\n",
            "Eval:  52%|█████▏    | 65/125 [00:01<00:01, 34.43it/s]\u001b[A\n",
            "Eval:  55%|█████▌    | 69/125 [00:02<00:01, 34.15it/s]\u001b[A\n",
            "Eval:  58%|█████▊    | 73/125 [00:02<00:01, 33.45it/s]\u001b[A\n",
            "Eval:  62%|██████▏   | 77/125 [00:02<00:01, 32.60it/s]\u001b[A\n",
            "Eval:  65%|██████▍   | 81/125 [00:02<00:01, 32.73it/s]\u001b[A\n",
            "Eval:  68%|██████▊   | 85/125 [00:02<00:01, 32.72it/s]\u001b[A\n",
            "Eval:  71%|███████   | 89/125 [00:02<00:01, 32.37it/s]\u001b[A\n",
            "Eval:  74%|███████▍  | 93/125 [00:02<00:00, 32.18it/s]\u001b[A\n",
            "Eval:  78%|███████▊  | 97/125 [00:02<00:00, 32.51it/s]\u001b[A\n",
            "Eval:  81%|████████  | 101/125 [00:03<00:00, 31.92it/s]\u001b[A\n",
            "Eval:  84%|████████▍ | 105/125 [00:03<00:00, 31.87it/s]\u001b[A\n",
            "Eval:  87%|████████▋ | 109/125 [00:03<00:00, 32.04it/s]\u001b[A\n",
            "Eval:  90%|█████████ | 113/125 [00:03<00:00, 31.59it/s]\u001b[A\n",
            "Eval:  94%|█████████▎| 117/125 [00:03<00:00, 31.79it/s]\u001b[A\n",
            "Eval:  97%|█████████▋| 121/125 [00:03<00:00, 32.06it/s]\u001b[A\n",
            "Eval: 100%|██████████| 125/125 [00:03<00:00, 32.06it/s]\u001b[A\n",
            "Epoch 0:  80%|███████▉  | 11080/13852 [19:13<04:40,  9.87batch/s, loss=0.0141]\n",
            "Eval:   0%|          | 0/125 [00:00<?, ?it/s]\u001b[A\n",
            "Eval:   1%|          | 1/125 [00:00<00:13,  8.94it/s]\u001b[A\n",
            "Eval:   4%|▍         | 5/125 [00:00<00:04, 25.13it/s]\u001b[A\n",
            "Eval:   7%|▋         | 9/125 [00:00<00:03, 30.47it/s]\u001b[A\n",
            "Eval:  10%|█         | 13/125 [00:00<00:03, 32.57it/s]\u001b[A\n",
            "Eval:  14%|█▎        | 17/125 [00:00<00:03, 33.34it/s]\u001b[A\n",
            "Eval:  17%|█▋        | 21/125 [00:00<00:03, 33.40it/s]\u001b[A\n",
            "Eval:  20%|██        | 25/125 [00:00<00:02, 34.27it/s]\u001b[A\n",
            "Eval:  23%|██▎       | 29/125 [00:00<00:02, 35.50it/s]\u001b[A\n",
            "Eval:  26%|██▋       | 33/125 [00:01<00:02, 34.96it/s]\u001b[A\n",
            "Eval:  30%|██▉       | 37/125 [00:01<00:02, 35.95it/s]\u001b[A\n",
            "Eval:  33%|███▎      | 41/125 [00:01<00:02, 35.60it/s]\u001b[A\n",
            "Eval:  36%|███▌      | 45/125 [00:01<00:02, 35.94it/s]\u001b[A\n",
            "Eval:  39%|███▉      | 49/125 [00:01<00:02, 35.28it/s]\u001b[A\n",
            "Eval:  42%|████▏     | 53/125 [00:01<00:02, 34.71it/s]\u001b[A\n",
            "Eval:  46%|████▌     | 57/125 [00:01<00:01, 35.71it/s]\u001b[A\n",
            "Eval:  49%|████▉     | 61/125 [00:01<00:01, 35.75it/s]\u001b[A\n",
            "Eval:  52%|█████▏    | 65/125 [00:01<00:01, 35.38it/s]\u001b[A\n",
            "Eval:  55%|█████▌    | 69/125 [00:02<00:01, 34.77it/s]\u001b[A\n",
            "Eval:  58%|█████▊    | 73/125 [00:02<00:01, 33.97it/s]\u001b[A\n",
            "Eval:  62%|██████▏   | 77/125 [00:02<00:01, 32.93it/s]\u001b[A\n",
            "Eval:  65%|██████▍   | 81/125 [00:02<00:01, 33.04it/s]\u001b[A\n",
            "Eval:  68%|██████▊   | 85/125 [00:02<00:01, 33.23it/s]\u001b[A\n",
            "Eval:  71%|███████   | 89/125 [00:02<00:01, 32.82it/s]\u001b[A\n",
            "Eval:  74%|███████▍  | 93/125 [00:02<00:00, 32.74it/s]\u001b[A\n",
            "Eval:  78%|███████▊  | 97/125 [00:02<00:00, 33.09it/s]\u001b[A\n",
            "Eval:  81%|████████  | 101/125 [00:03<00:00, 32.23it/s]\u001b[A\n",
            "Eval:  84%|████████▍ | 105/125 [00:03<00:00, 32.39it/s]\u001b[A\n",
            "Eval:  87%|████████▋ | 109/125 [00:03<00:00, 32.16it/s]\u001b[A\n",
            "Eval:  90%|█████████ | 113/125 [00:03<00:00, 31.70it/s]\u001b[A\n",
            "Eval:  94%|█████████▎| 117/125 [00:03<00:00, 32.08it/s]\u001b[A\n",
            "Eval:  97%|█████████▋| 121/125 [00:03<00:00, 32.38it/s]\u001b[A\n",
            "Eval: 100%|██████████| 125/125 [00:03<00:00, 32.60it/s]\u001b[A\n",
            "                                                       \u001b[A"
          ]
        },
        {
          "output_type": "stream",
          "name": "stdout",
          "text": [
            "Acc for model which have lower valid loss:  0.97925\n"
          ]
        },
        {
          "output_type": "stream",
          "name": "stderr",
          "text": [
            "Epoch 0: 100%|█████████▉| 13849/13852 [24:01<00:00,  8.96batch/s, loss=0.00467]\n",
            "Eval:   0%|          | 0/125 [00:00<?, ?it/s]\u001b[A\n",
            "Eval:   1%|          | 1/125 [00:00<00:13,  9.34it/s]\u001b[A\n",
            "Eval:   4%|▍         | 5/125 [00:00<00:04, 24.97it/s]\u001b[A\n",
            "Eval:   7%|▋         | 9/125 [00:00<00:03, 30.32it/s]\u001b[A\n",
            "Eval:  10%|█         | 13/125 [00:00<00:03, 32.39it/s]\u001b[A\n",
            "Eval:  14%|█▎        | 17/125 [00:00<00:03, 34.14it/s]\u001b[A\n",
            "Eval:  17%|█▋        | 21/125 [00:00<00:03, 33.84it/s]\u001b[A\n",
            "Eval:  20%|██        | 25/125 [00:00<00:02, 34.51it/s]\u001b[A\n",
            "Eval:  23%|██▎       | 29/125 [00:00<00:02, 35.46it/s]\u001b[A\n",
            "Eval:  26%|██▋       | 33/125 [00:01<00:02, 35.02it/s]\u001b[A\n",
            "Eval:  30%|██▉       | 37/125 [00:01<00:02, 35.12it/s]\u001b[A\n",
            "Eval:  33%|███▎      | 41/125 [00:01<00:02, 35.09it/s]\u001b[A\n",
            "Eval:  36%|███▌      | 45/125 [00:01<00:02, 35.10it/s]\u001b[A\n",
            "Eval:  39%|███▉      | 49/125 [00:01<00:02, 35.25it/s]\u001b[A\n",
            "Eval:  42%|████▏     | 53/125 [00:01<00:02, 34.72it/s]\u001b[A\n",
            "Eval:  46%|████▌     | 57/125 [00:01<00:01, 35.67it/s]\u001b[A\n",
            "Eval:  49%|████▉     | 61/125 [00:01<00:01, 35.92it/s]\u001b[A\n",
            "Eval:  52%|█████▏    | 65/125 [00:01<00:01, 35.39it/s]\u001b[A\n",
            "Eval:  55%|█████▌    | 69/125 [00:02<00:01, 34.74it/s]\u001b[A\n",
            "Eval:  58%|█████▊    | 73/125 [00:02<00:01, 33.85it/s]\u001b[A\n",
            "Eval:  62%|██████▏   | 77/125 [00:02<00:01, 32.80it/s]\u001b[A\n",
            "Eval:  65%|██████▍   | 81/125 [00:02<00:01, 32.69it/s]\u001b[A\n",
            "Eval:  68%|██████▊   | 85/125 [00:02<00:01, 33.05it/s]\u001b[A\n",
            "Eval:  71%|███████   | 89/125 [00:02<00:01, 32.72it/s]\u001b[A\n",
            "Eval:  74%|███████▍  | 93/125 [00:02<00:00, 32.60it/s]\u001b[A\n",
            "Eval:  78%|███████▊  | 97/125 [00:02<00:00, 32.95it/s]\u001b[A\n",
            "Eval:  81%|████████  | 101/125 [00:03<00:00, 32.68it/s]\u001b[A\n",
            "Eval:  84%|████████▍ | 105/125 [00:03<00:00, 32.21it/s]\u001b[A\n",
            "Eval:  87%|████████▋ | 109/125 [00:03<00:00, 32.28it/s]\u001b[A\n",
            "Eval:  90%|█████████ | 113/125 [00:03<00:00, 31.53it/s]\u001b[A\n",
            "Eval:  94%|█████████▎| 117/125 [00:03<00:00, 31.47it/s]\u001b[A\n",
            "Eval:  97%|█████████▋| 121/125 [00:03<00:00, 32.06it/s]\u001b[A\n",
            "Eval: 100%|██████████| 125/125 [00:03<00:00, 32.35it/s]\u001b[A\n",
            "                                                       \u001b[A"
          ]
        },
        {
          "output_type": "stream",
          "name": "stdout",
          "text": [
            "Acc for model which have lower valid loss:  0.98075\n"
          ]
        },
        {
          "output_type": "stream",
          "name": "stderr",
          "text": [
            "Epoch 0: 100%|██████████| 13852/13852 [24:09<00:00,  9.56batch/s, loss=0.00371]\n",
            "Epoch 1:  20%|█▉        | 2770/13852 [04:43<18:49,  9.81batch/s, loss=0.00107]\n",
            "Eval:   0%|          | 0/125 [00:00<?, ?it/s]\u001b[A\n",
            "Eval:   1%|          | 1/125 [00:00<00:13,  9.45it/s]\u001b[A\n",
            "Eval:   4%|▍         | 5/125 [00:00<00:04, 25.57it/s]\u001b[A\n",
            "Eval:   7%|▋         | 9/125 [00:00<00:03, 30.96it/s]\u001b[A\n",
            "Eval:  10%|█         | 13/125 [00:00<00:03, 32.53it/s]\u001b[A\n",
            "Eval:  14%|█▎        | 17/125 [00:00<00:03, 34.22it/s]\u001b[A\n",
            "Eval:  17%|█▋        | 21/125 [00:00<00:03, 33.63it/s]\u001b[A\n",
            "Eval:  20%|██        | 25/125 [00:00<00:02, 34.38it/s]\u001b[A\n",
            "Eval:  23%|██▎       | 29/125 [00:00<00:02, 35.75it/s]\u001b[A\n",
            "Eval:  26%|██▋       | 33/125 [00:00<00:02, 35.28it/s]\u001b[A\n",
            "Eval:  30%|██▉       | 37/125 [00:01<00:02, 36.20it/s]\u001b[A\n",
            "Eval:  33%|███▎      | 41/125 [00:01<00:02, 35.95it/s]\u001b[A\n",
            "Eval:  36%|███▌      | 45/125 [00:01<00:02, 36.64it/s]\u001b[A\n",
            "Eval:  39%|███▉      | 49/125 [00:01<00:02, 35.70it/s]\u001b[A\n",
            "Eval:  42%|████▏     | 53/125 [00:01<00:02, 34.77it/s]\u001b[A\n",
            "Eval:  46%|████▌     | 57/125 [00:01<00:01, 35.76it/s]\u001b[A\n",
            "Eval:  49%|████▉     | 61/125 [00:01<00:01, 36.14it/s]\u001b[A\n",
            "Eval:  52%|█████▏    | 65/125 [00:01<00:01, 35.53it/s]\u001b[A\n",
            "Eval:  55%|█████▌    | 69/125 [00:02<00:01, 34.83it/s]\u001b[A\n",
            "Eval:  58%|█████▊    | 73/125 [00:02<00:01, 33.97it/s]\u001b[A\n",
            "Eval:  62%|██████▏   | 77/125 [00:02<00:01, 33.05it/s]\u001b[A\n",
            "Eval:  65%|██████▍   | 81/125 [00:02<00:01, 32.95it/s]\u001b[A\n",
            "Eval:  68%|██████▊   | 85/125 [00:02<00:01, 32.69it/s]\u001b[A\n",
            "Eval:  71%|███████   | 89/125 [00:02<00:01, 32.56it/s]\u001b[A\n",
            "Eval:  74%|███████▍  | 93/125 [00:02<00:00, 32.56it/s]\u001b[A\n",
            "Eval:  78%|███████▊  | 97/125 [00:02<00:00, 32.81it/s]\u001b[A\n",
            "Eval:  81%|████████  | 101/125 [00:03<00:00, 32.72it/s]\u001b[A\n",
            "Eval:  84%|████████▍ | 105/125 [00:03<00:00, 32.82it/s]\u001b[A\n",
            "Eval:  87%|████████▋ | 109/125 [00:03<00:00, 32.52it/s]\u001b[A\n",
            "Eval:  90%|█████████ | 113/125 [00:03<00:00, 32.03it/s]\u001b[A\n",
            "Eval:  94%|█████████▎| 117/125 [00:03<00:00, 32.22it/s]\u001b[A\n",
            "Eval:  97%|█████████▋| 121/125 [00:03<00:00, 32.05it/s]\u001b[A\n",
            "Eval: 100%|██████████| 125/125 [00:03<00:00, 32.34it/s]\u001b[A\n",
            "Epoch 1:  40%|███▉      | 5540/13852 [09:27<13:49, 10.02batch/s, loss=0.000858]\n",
            "Eval:   0%|          | 0/125 [00:00<?, ?it/s]\u001b[A\n",
            "Eval:   1%|          | 1/125 [00:00<00:12,  9.58it/s]\u001b[A\n",
            "Eval:   4%|▍         | 5/125 [00:00<00:04, 25.19it/s]\u001b[A\n",
            "Eval:   7%|▋         | 9/125 [00:00<00:03, 30.62it/s]\u001b[A\n",
            "Eval:  10%|█         | 13/125 [00:00<00:03, 32.67it/s]\u001b[A\n",
            "Eval:  14%|█▎        | 17/125 [00:00<00:03, 34.24it/s]\u001b[A\n",
            "Eval:  17%|█▋        | 21/125 [00:00<00:03, 33.41it/s]\u001b[A\n",
            "Eval:  20%|██        | 25/125 [00:00<00:02, 34.11it/s]\u001b[A\n",
            "Eval:  23%|██▎       | 29/125 [00:00<00:02, 35.00it/s]\u001b[A\n",
            "Eval:  26%|██▋       | 33/125 [00:01<00:02, 34.82it/s]\u001b[A\n",
            "Eval:  30%|██▉       | 37/125 [00:01<00:02, 36.07it/s]\u001b[A\n",
            "Eval:  33%|███▎      | 41/125 [00:01<00:02, 35.56it/s]\u001b[A\n",
            "Eval:  36%|███▌      | 45/125 [00:01<00:02, 35.60it/s]\u001b[A\n",
            "Eval:  39%|███▉      | 49/125 [00:01<00:02, 35.09it/s]\u001b[A\n",
            "Eval:  42%|████▏     | 53/125 [00:01<00:02, 34.52it/s]\u001b[A\n",
            "Eval:  46%|████▌     | 57/125 [00:01<00:01, 35.64it/s]\u001b[A\n",
            "Eval:  49%|████▉     | 61/125 [00:01<00:01, 35.78it/s]\u001b[A\n",
            "Eval:  52%|█████▏    | 65/125 [00:01<00:01, 35.13it/s]\u001b[A\n",
            "Eval:  55%|█████▌    | 69/125 [00:02<00:01, 34.26it/s]\u001b[A\n",
            "Eval:  58%|█████▊    | 73/125 [00:02<00:01, 33.48it/s]\u001b[A\n",
            "Eval:  62%|██████▏   | 77/125 [00:02<00:01, 32.80it/s]\u001b[A\n",
            "Eval:  65%|██████▍   | 81/125 [00:02<00:01, 32.82it/s]\u001b[A\n",
            "Eval:  68%|██████▊   | 85/125 [00:02<00:01, 33.07it/s]\u001b[A\n",
            "Eval:  71%|███████   | 89/125 [00:02<00:01, 32.74it/s]\u001b[A\n",
            "Eval:  74%|███████▍  | 93/125 [00:02<00:00, 32.62it/s]\u001b[A\n",
            "Eval:  78%|███████▊  | 97/125 [00:02<00:00, 32.25it/s]\u001b[A\n",
            "Eval:  81%|████████  | 101/125 [00:03<00:00, 32.20it/s]\u001b[A\n",
            "Eval:  84%|████████▍ | 105/125 [00:03<00:00, 32.40it/s]\u001b[A\n",
            "Eval:  87%|████████▋ | 109/125 [00:03<00:00, 32.09it/s]\u001b[A\n",
            "Eval:  90%|█████████ | 113/125 [00:03<00:00, 31.63it/s]\u001b[A\n",
            "Eval:  94%|█████████▎| 117/125 [00:03<00:00, 31.99it/s]\u001b[A\n",
            "Eval:  97%|█████████▋| 121/125 [00:03<00:00, 32.27it/s]\u001b[A\n",
            "Eval: 100%|██████████| 125/125 [00:03<00:00, 32.47it/s]\u001b[A\n",
            "Epoch 1:  60%|█████▉    | 8310/13852 [14:12<09:39,  9.56batch/s, loss=0.0358]\n",
            "Eval:   0%|          | 0/125 [00:00<?, ?it/s]\u001b[A\n",
            "Eval:   1%|          | 1/125 [00:00<00:12,  9.59it/s]\u001b[A\n",
            "Eval:   4%|▍         | 5/125 [00:00<00:04, 24.94it/s]\u001b[A\n",
            "Eval:   7%|▋         | 9/125 [00:00<00:03, 29.91it/s]\u001b[A\n",
            "Eval:  10%|█         | 13/125 [00:00<00:03, 32.22it/s]\u001b[A\n",
            "Eval:  14%|█▎        | 17/125 [00:00<00:03, 34.09it/s]\u001b[A\n",
            "Eval:  17%|█▋        | 21/125 [00:00<00:03, 34.00it/s]\u001b[A\n",
            "Eval:  20%|██        | 25/125 [00:00<00:02, 34.82it/s]\u001b[A\n",
            "Eval:  23%|██▎       | 29/125 [00:00<00:02, 35.82it/s]\u001b[A\n",
            "Eval:  26%|██▋       | 33/125 [00:01<00:02, 34.77it/s]\u001b[A\n",
            "Eval:  30%|██▉       | 37/125 [00:01<00:02, 36.00it/s]\u001b[A\n",
            "Eval:  33%|███▎      | 41/125 [00:01<00:02, 35.46it/s]\u001b[A\n",
            "Eval:  36%|███▌      | 45/125 [00:01<00:02, 35.99it/s]\u001b[A\n",
            "Eval:  39%|███▉      | 49/125 [00:01<00:02, 35.81it/s]\u001b[A\n",
            "Eval:  42%|████▏     | 53/125 [00:01<00:02, 35.15it/s]\u001b[A\n",
            "Eval:  46%|████▌     | 57/125 [00:01<00:01, 36.03it/s]\u001b[A\n",
            "Eval:  49%|████▉     | 61/125 [00:01<00:01, 36.26it/s]\u001b[A\n",
            "Eval:  52%|█████▏    | 65/125 [00:01<00:01, 35.28it/s]\u001b[A\n",
            "Eval:  55%|█████▌    | 69/125 [00:02<00:01, 34.90it/s]\u001b[A\n",
            "Eval:  58%|█████▊    | 73/125 [00:02<00:01, 33.20it/s]\u001b[A\n",
            "Eval:  62%|██████▏   | 77/125 [00:02<00:01, 32.32it/s]\u001b[A\n",
            "Eval:  65%|██████▍   | 81/125 [00:02<00:01, 32.31it/s]\u001b[A\n",
            "Eval:  68%|██████▊   | 85/125 [00:02<00:01, 32.83it/s]\u001b[A\n",
            "Eval:  71%|███████   | 89/125 [00:02<00:01, 32.52it/s]\u001b[A\n",
            "Eval:  74%|███████▍  | 93/125 [00:02<00:00, 32.45it/s]\u001b[A\n",
            "Eval:  78%|███████▊  | 97/125 [00:02<00:00, 32.77it/s]\u001b[A\n",
            "Eval:  81%|████████  | 101/125 [00:03<00:00, 32.47it/s]\u001b[A\n",
            "Eval:  84%|████████▍ | 105/125 [00:03<00:00, 32.64it/s]\u001b[A\n",
            "Eval:  87%|████████▋ | 109/125 [00:03<00:00, 32.46it/s]\u001b[A\n",
            "Eval:  90%|█████████ | 113/125 [00:03<00:00, 31.92it/s]\u001b[A\n",
            "Eval:  94%|█████████▎| 117/125 [00:03<00:00, 32.27it/s]\u001b[A\n",
            "Eval:  97%|█████████▋| 121/125 [00:03<00:00, 32.52it/s]\u001b[A\n",
            "Eval: 100%|██████████| 125/125 [00:03<00:00, 32.62it/s]\u001b[A\n",
            "                                                       \u001b[A"
          ]
        },
        {
          "output_type": "stream",
          "name": "stdout",
          "text": [
            "Acc for model which have lower valid loss:  0.98125\n"
          ]
        },
        {
          "output_type": "stream",
          "name": "stderr",
          "text": [
            "Epoch 1:  80%|███████▉  | 11080/13852 [19:02<04:42,  9.82batch/s, loss=0.113]  \n",
            "Eval:   0%|          | 0/125 [00:00<?, ?it/s]\u001b[A\n",
            "Eval:   1%|          | 1/125 [00:00<00:13,  9.06it/s]\u001b[A\n",
            "Eval:   4%|▍         | 5/125 [00:00<00:04, 25.45it/s]\u001b[A\n",
            "Eval:   7%|▋         | 9/125 [00:00<00:03, 29.49it/s]\u001b[A\n",
            "Eval:  10%|█         | 13/125 [00:00<00:03, 31.63it/s]\u001b[A\n",
            "Eval:  14%|█▎        | 17/125 [00:00<00:03, 33.46it/s]\u001b[A\n",
            "Eval:  17%|█▋        | 21/125 [00:00<00:03, 33.27it/s]\u001b[A\n",
            "Eval:  20%|██        | 25/125 [00:00<00:02, 34.07it/s]\u001b[A\n",
            "Eval:  23%|██▎       | 29/125 [00:00<00:02, 35.04it/s]\u001b[A\n",
            "Eval:  26%|██▋       | 33/125 [00:01<00:02, 34.35it/s]\u001b[A\n",
            "Eval:  30%|██▉       | 37/125 [00:01<00:02, 35.58it/s]\u001b[A\n",
            "Eval:  33%|███▎      | 41/125 [00:01<00:02, 35.28it/s]\u001b[A\n",
            "Eval:  36%|███▌      | 45/125 [00:01<00:02, 35.20it/s]\u001b[A\n",
            "Eval:  39%|███▉      | 49/125 [00:01<00:02, 35.01it/s]\u001b[A\n",
            "Eval:  42%|████▏     | 53/125 [00:01<00:02, 34.67it/s]\u001b[A\n",
            "Eval:  46%|████▌     | 57/125 [00:01<00:01, 35.40it/s]\u001b[A\n",
            "Eval:  49%|████▉     | 61/125 [00:01<00:01, 35.68it/s]\u001b[A\n",
            "Eval:  52%|█████▏    | 65/125 [00:01<00:01, 35.17it/s]\u001b[A\n",
            "Eval:  55%|█████▌    | 69/125 [00:02<00:01, 34.31it/s]\u001b[A\n",
            "Eval:  58%|█████▊    | 73/125 [00:02<00:01, 33.44it/s]\u001b[A\n",
            "Eval:  62%|██████▏   | 77/125 [00:02<00:01, 32.32it/s]\u001b[A\n",
            "Eval:  65%|██████▍   | 81/125 [00:02<00:01, 32.24it/s]\u001b[A\n",
            "Eval:  68%|██████▊   | 85/125 [00:02<00:01, 32.28it/s]\u001b[A\n",
            "Eval:  71%|███████   | 89/125 [00:02<00:01, 32.15it/s]\u001b[A\n",
            "Eval:  74%|███████▍  | 93/125 [00:02<00:00, 32.18it/s]\u001b[A\n",
            "Eval:  78%|███████▊  | 97/125 [00:02<00:00, 32.40it/s]\u001b[A\n",
            "Eval:  81%|████████  | 101/125 [00:03<00:00, 32.29it/s]\u001b[A\n",
            "Eval:  84%|████████▍ | 105/125 [00:03<00:00, 32.22it/s]\u001b[A\n",
            "Eval:  87%|████████▋ | 109/125 [00:03<00:00, 32.20it/s]\u001b[A\n",
            "Eval:  90%|█████████ | 113/125 [00:03<00:00, 31.15it/s]\u001b[A\n",
            "Eval:  94%|█████████▎| 117/125 [00:03<00:00, 31.47it/s]\u001b[A\n",
            "Eval:  97%|█████████▋| 121/125 [00:03<00:00, 31.72it/s]\u001b[A\n",
            "Eval: 100%|██████████| 125/125 [00:03<00:00, 31.88it/s]\u001b[A\n",
            "Epoch 1: 100%|█████████▉| 13850/13852 [23:51<00:00,  9.00batch/s, loss=0.202] \n",
            "Eval:   0%|          | 0/125 [00:00<?, ?it/s]\u001b[A\n",
            "Eval:   1%|          | 1/125 [00:00<00:13,  9.01it/s]\u001b[A\n",
            "Eval:   4%|▍         | 5/125 [00:00<00:04, 24.64it/s]\u001b[A\n",
            "Eval:   7%|▋         | 9/125 [00:00<00:03, 29.98it/s]\u001b[A\n",
            "Eval:  10%|█         | 13/125 [00:00<00:03, 32.08it/s]\u001b[A\n",
            "Eval:  14%|█▎        | 17/125 [00:00<00:03, 33.73it/s]\u001b[A\n",
            "Eval:  17%|█▋        | 21/125 [00:00<00:03, 33.64it/s]\u001b[A\n",
            "Eval:  20%|██        | 25/125 [00:00<00:02, 34.00it/s]\u001b[A\n",
            "Eval:  23%|██▎       | 29/125 [00:00<00:02, 35.10it/s]\u001b[A\n",
            "Eval:  26%|██▋       | 33/125 [00:01<00:02, 34.93it/s]\u001b[A\n",
            "Eval:  30%|██▉       | 37/125 [00:01<00:02, 35.84it/s]\u001b[A\n",
            "Eval:  33%|███▎      | 41/125 [00:01<00:02, 34.99it/s]\u001b[A\n",
            "Eval:  36%|███▌      | 45/125 [00:01<00:02, 35.66it/s]\u001b[A\n",
            "Eval:  39%|███▉      | 49/125 [00:01<00:02, 35.45it/s]\u001b[A\n",
            "Eval:  42%|████▏     | 53/125 [00:01<00:02, 34.41it/s]\u001b[A\n",
            "Eval:  46%|████▌     | 57/125 [00:01<00:01, 34.84it/s]\u001b[A\n",
            "Eval:  49%|████▉     | 61/125 [00:01<00:01, 35.18it/s]\u001b[A\n",
            "Eval:  52%|█████▏    | 65/125 [00:01<00:01, 34.82it/s]\u001b[A\n",
            "Eval:  55%|█████▌    | 69/125 [00:02<00:01, 34.55it/s]\u001b[A\n",
            "Eval:  58%|█████▊    | 73/125 [00:02<00:01, 33.75it/s]\u001b[A\n",
            "Eval:  62%|██████▏   | 77/125 [00:02<00:01, 32.96it/s]\u001b[A\n",
            "Eval:  65%|██████▍   | 81/125 [00:02<00:01, 33.05it/s]\u001b[A\n",
            "Eval:  68%|██████▊   | 85/125 [00:02<00:01, 33.29it/s]\u001b[A\n",
            "Eval:  71%|███████   | 89/125 [00:02<00:01, 32.89it/s]\u001b[A\n",
            "Eval:  74%|███████▍  | 93/125 [00:02<00:00, 32.73it/s]\u001b[A\n",
            "Eval:  78%|███████▊  | 97/125 [00:02<00:00, 33.16it/s]\u001b[A\n",
            "Eval:  81%|████████  | 101/125 [00:03<00:00, 32.83it/s]\u001b[A\n",
            "Eval:  84%|████████▍ | 105/125 [00:03<00:00, 32.67it/s]\u001b[A\n",
            "Eval:  87%|████████▋ | 109/125 [00:03<00:00, 32.45it/s]\u001b[A\n",
            "Eval:  90%|█████████ | 113/125 [00:03<00:00, 31.85it/s]\u001b[A\n",
            "Eval:  94%|█████████▎| 117/125 [00:03<00:00, 31.81it/s]\u001b[A\n",
            "Eval:  97%|█████████▋| 121/125 [00:03<00:00, 31.98it/s]\u001b[A\n",
            "Eval: 100%|██████████| 125/125 [00:03<00:00, 32.12it/s]\u001b[A\n",
            "Epoch 1: 100%|██████████| 13852/13852 [23:55<00:00,  9.65batch/s, loss=0.00344]\n",
            "Epoch 2:  20%|█▉        | 2770/13852 [04:43<18:18, 10.09batch/s, loss=0.0318] \n",
            "Eval:   0%|          | 0/125 [00:00<?, ?it/s]\u001b[A\n",
            "Eval:   1%|          | 1/125 [00:00<00:15,  8.10it/s]\u001b[A\n",
            "Eval:   4%|▍         | 5/125 [00:00<00:05, 23.22it/s]\u001b[A\n",
            "Eval:   7%|▋         | 9/125 [00:00<00:03, 29.05it/s]\u001b[A\n",
            "Eval:  10%|█         | 13/125 [00:00<00:03, 31.54it/s]\u001b[A\n",
            "Eval:  14%|█▎        | 17/125 [00:00<00:03, 32.74it/s]\u001b[A\n",
            "Eval:  17%|█▋        | 21/125 [00:00<00:03, 32.77it/s]\u001b[A\n",
            "Eval:  20%|██        | 25/125 [00:00<00:02, 33.74it/s]\u001b[A\n",
            "Eval:  23%|██▎       | 29/125 [00:00<00:02, 35.26it/s]\u001b[A\n",
            "Eval:  26%|██▋       | 33/125 [00:01<00:02, 35.07it/s]\u001b[A\n",
            "Eval:  30%|██▉       | 37/125 [00:01<00:02, 35.90it/s]\u001b[A\n",
            "Eval:  33%|███▎      | 41/125 [00:01<00:02, 35.44it/s]\u001b[A\n",
            "Eval:  36%|███▌      | 45/125 [00:01<00:02, 35.67it/s]\u001b[A\n",
            "Eval:  39%|███▉      | 49/125 [00:01<00:02, 35.37it/s]\u001b[A\n",
            "Eval:  42%|████▏     | 53/125 [00:01<00:02, 34.93it/s]\u001b[A\n",
            "Eval:  46%|████▌     | 57/125 [00:01<00:01, 35.82it/s]\u001b[A\n",
            "Eval:  49%|████▉     | 61/125 [00:01<00:01, 36.11it/s]\u001b[A\n",
            "Eval:  52%|█████▏    | 65/125 [00:01<00:01, 35.74it/s]\u001b[A\n",
            "Eval:  55%|█████▌    | 69/125 [00:02<00:01, 34.96it/s]\u001b[A\n",
            "Eval:  58%|█████▊    | 73/125 [00:02<00:01, 33.97it/s]\u001b[A\n",
            "Eval:  62%|██████▏   | 77/125 [00:02<00:01, 32.95it/s]\u001b[A\n",
            "Eval:  65%|██████▍   | 81/125 [00:02<00:01, 32.95it/s]\u001b[A\n",
            "Eval:  68%|██████▊   | 85/125 [00:02<00:01, 33.05it/s]\u001b[A\n",
            "Eval:  71%|███████   | 89/125 [00:02<00:01, 32.33it/s]\u001b[A\n",
            "Eval:  74%|███████▍  | 93/125 [00:02<00:01, 31.60it/s]\u001b[A\n",
            "Eval:  78%|███████▊  | 97/125 [00:02<00:00, 32.12it/s]\u001b[A\n",
            "Eval:  81%|████████  | 101/125 [00:03<00:00, 32.22it/s]\u001b[A\n",
            "Eval:  84%|████████▍ | 105/125 [00:03<00:00, 32.15it/s]\u001b[A\n",
            "Eval:  87%|████████▋ | 109/125 [00:03<00:00, 32.11it/s]\u001b[A\n",
            "Eval:  90%|█████████ | 113/125 [00:03<00:00, 31.52it/s]\u001b[A\n",
            "Eval:  94%|█████████▎| 117/125 [00:03<00:00, 31.89it/s]\u001b[A\n",
            "Eval:  97%|█████████▋| 121/125 [00:03<00:00, 32.25it/s]\u001b[A\n",
            "Eval: 100%|██████████| 125/125 [00:03<00:00, 32.53it/s]\u001b[A\n",
            "Epoch 2:  40%|███▉      | 5540/13852 [09:30<14:27,  9.59batch/s, loss=0.00346]\n",
            "Eval:   0%|          | 0/125 [00:00<?, ?it/s]\u001b[A\n",
            "Eval:   1%|          | 1/125 [00:00<00:13,  9.49it/s]\u001b[A\n",
            "Eval:   4%|▍         | 5/125 [00:00<00:04, 25.83it/s]\u001b[A\n",
            "Eval:   7%|▋         | 9/125 [00:00<00:03, 31.29it/s]\u001b[A\n",
            "Eval:  10%|█         | 13/125 [00:00<00:03, 32.19it/s]\u001b[A\n",
            "Eval:  14%|█▎        | 17/125 [00:00<00:03, 34.06it/s]\u001b[A\n",
            "Eval:  17%|█▋        | 21/125 [00:00<00:03, 33.67it/s]\u001b[A\n",
            "Eval:  20%|██        | 25/125 [00:00<00:02, 34.41it/s]\u001b[A\n",
            "Eval:  23%|██▎       | 29/125 [00:00<00:02, 35.48it/s]\u001b[A\n",
            "Eval:  26%|██▋       | 33/125 [00:01<00:02, 35.07it/s]\u001b[A\n",
            "Eval:  30%|██▉       | 37/125 [00:01<00:02, 36.09it/s]\u001b[A\n",
            "Eval:  33%|███▎      | 41/125 [00:01<00:02, 35.83it/s]\u001b[A\n",
            "Eval:  36%|███▌      | 45/125 [00:01<00:02, 36.14it/s]\u001b[A\n",
            "Eval:  39%|███▉      | 49/125 [00:01<00:02, 35.41it/s]\u001b[A\n",
            "Eval:  42%|████▏     | 53/125 [00:01<00:02, 34.93it/s]\u001b[A\n",
            "Eval:  46%|████▌     | 57/125 [00:01<00:01, 35.93it/s]\u001b[A\n",
            "Eval:  49%|████▉     | 61/125 [00:01<00:01, 35.73it/s]\u001b[A\n",
            "Eval:  52%|█████▏    | 65/125 [00:01<00:01, 35.10it/s]\u001b[A\n",
            "Eval:  55%|█████▌    | 69/125 [00:02<00:01, 34.59it/s]\u001b[A\n",
            "Eval:  58%|█████▊    | 73/125 [00:02<00:01, 33.42it/s]\u001b[A\n",
            "Eval:  62%|██████▏   | 77/125 [00:02<00:01, 32.62it/s]\u001b[A\n",
            "Eval:  65%|██████▍   | 81/125 [00:02<00:01, 32.35it/s]\u001b[A\n",
            "Eval:  68%|██████▊   | 85/125 [00:02<00:01, 32.74it/s]\u001b[A\n",
            "Eval:  71%|███████   | 89/125 [00:02<00:01, 32.55it/s]\u001b[A\n",
            "Eval:  74%|███████▍  | 93/125 [00:02<00:00, 32.31it/s]\u001b[A\n",
            "Eval:  78%|███████▊  | 97/125 [00:02<00:00, 32.59it/s]\u001b[A\n",
            "Eval:  81%|████████  | 101/125 [00:03<00:00, 32.40it/s]\u001b[A\n",
            "Eval:  84%|████████▍ | 105/125 [00:03<00:00, 32.51it/s]\u001b[A\n",
            "Eval:  87%|████████▋ | 109/125 [00:03<00:00, 32.33it/s]\u001b[A\n",
            "Eval:  90%|█████████ | 113/125 [00:03<00:00, 31.79it/s]\u001b[A\n",
            "Eval:  94%|█████████▎| 117/125 [00:03<00:00, 31.46it/s]\u001b[A\n",
            "Eval:  97%|█████████▋| 121/125 [00:03<00:00, 31.68it/s]\u001b[A\n",
            "Eval: 100%|██████████| 125/125 [00:03<00:00, 31.88it/s]\u001b[A\n",
            "Epoch 2:  60%|█████▉    | 8310/13852 [14:18<09:39,  9.56batch/s, loss=0.00269]\n",
            "Eval:   0%|          | 0/125 [00:00<?, ?it/s]\u001b[A\n",
            "Eval:   1%|          | 1/125 [00:00<00:13,  9.27it/s]\u001b[A\n",
            "Eval:   4%|▍         | 5/125 [00:00<00:04, 25.05it/s]\u001b[A\n",
            "Eval:   7%|▋         | 9/125 [00:00<00:03, 30.14it/s]\u001b[A\n",
            "Eval:  10%|█         | 13/125 [00:00<00:03, 31.56it/s]\u001b[A\n",
            "Eval:  14%|█▎        | 17/125 [00:00<00:03, 33.29it/s]\u001b[A\n",
            "Eval:  17%|█▋        | 21/125 [00:00<00:03, 33.13it/s]\u001b[A\n",
            "Eval:  20%|██        | 25/125 [00:00<00:02, 33.82it/s]\u001b[A\n",
            "Eval:  23%|██▎       | 29/125 [00:00<00:02, 34.85it/s]\u001b[A\n",
            "Eval:  26%|██▋       | 33/125 [00:01<00:02, 34.27it/s]\u001b[A\n",
            "Eval:  30%|██▉       | 37/125 [00:01<00:02, 34.43it/s]\u001b[A\n",
            "Eval:  33%|███▎      | 41/125 [00:01<00:02, 34.14it/s]\u001b[A\n",
            "Eval:  36%|███▌      | 45/125 [00:01<00:02, 34.83it/s]\u001b[A\n",
            "Eval:  39%|███▉      | 49/125 [00:01<00:02, 34.63it/s]\u001b[A\n",
            "Eval:  42%|████▏     | 53/125 [00:01<00:02, 33.98it/s]\u001b[A\n",
            "Eval:  46%|████▌     | 57/125 [00:01<00:01, 34.24it/s]\u001b[A\n",
            "Eval:  49%|████▉     | 61/125 [00:01<00:01, 33.59it/s]\u001b[A\n",
            "Eval:  52%|█████▏    | 65/125 [00:01<00:01, 32.59it/s]\u001b[A\n",
            "Eval:  55%|█████▌    | 69/125 [00:02<00:01, 30.83it/s]\u001b[A\n",
            "Eval:  58%|█████▊    | 73/125 [00:02<00:01, 29.71it/s]\u001b[A\n",
            "Eval:  61%|██████    | 76/125 [00:02<00:01, 28.68it/s]\u001b[A\n",
            "Eval:  63%|██████▎   | 79/125 [00:02<00:01, 28.96it/s]\u001b[A\n",
            "Eval:  66%|██████▋   | 83/125 [00:02<00:01, 30.10it/s]\u001b[A\n",
            "Eval:  70%|██████▉   | 87/125 [00:02<00:01, 30.55it/s]\u001b[A\n",
            "Eval:  73%|███████▎  | 91/125 [00:02<00:01, 30.15it/s]\u001b[A\n",
            "Eval:  76%|███████▌  | 95/125 [00:03<00:01, 29.97it/s]\u001b[A\n",
            "Eval:  79%|███████▉  | 99/125 [00:03<00:00, 30.07it/s]\u001b[A\n",
            "Eval:  82%|████████▏ | 103/125 [00:03<00:00, 30.12it/s]\u001b[A\n",
            "Eval:  86%|████████▌ | 107/125 [00:03<00:00, 29.60it/s]\u001b[A\n",
            "Eval:  88%|████████▊ | 110/125 [00:03<00:00, 29.18it/s]\u001b[A\n",
            "Eval:  90%|█████████ | 113/125 [00:03<00:00, 28.17it/s]\u001b[A\n",
            "Eval:  93%|█████████▎| 116/125 [00:03<00:00, 28.30it/s]\u001b[A\n",
            "Eval:  96%|█████████▌| 120/125 [00:03<00:00, 29.50it/s]\u001b[A\n",
            "Eval:  99%|█████████▉| 124/125 [00:03<00:00, 30.17it/s]\u001b[A\n",
            "Epoch 2:  80%|███████▉  | 11079/13852 [19:07<04:49,  9.58batch/s, loss=0.0336] \n",
            "Eval:   0%|          | 0/125 [00:00<?, ?it/s]\u001b[A\n",
            "Eval:   1%|          | 1/125 [00:00<00:14,  8.79it/s]\u001b[A\n",
            "Eval:   4%|▍         | 5/125 [00:00<00:04, 24.99it/s]\u001b[A\n",
            "Eval:   7%|▋         | 9/125 [00:00<00:03, 30.01it/s]\u001b[A\n",
            "Eval:  10%|█         | 13/125 [00:00<00:03, 32.20it/s]\u001b[A\n",
            "Eval:  14%|█▎        | 17/125 [00:00<00:03, 32.99it/s]\u001b[A\n",
            "Eval:  17%|█▋        | 21/125 [00:00<00:03, 32.80it/s]\u001b[A\n",
            "Eval:  20%|██        | 25/125 [00:00<00:02, 33.55it/s]\u001b[A\n",
            "Eval:  23%|██▎       | 29/125 [00:00<00:02, 34.55it/s]\u001b[A\n",
            "Eval:  26%|██▋       | 33/125 [00:01<00:02, 34.43it/s]\u001b[A\n",
            "Eval:  30%|██▉       | 37/125 [00:01<00:02, 35.48it/s]\u001b[A\n",
            "Eval:  33%|███▎      | 41/125 [00:01<00:02, 35.14it/s]\u001b[A\n",
            "Eval:  36%|███▌      | 45/125 [00:01<00:02, 35.72it/s]\u001b[A\n",
            "Eval:  39%|███▉      | 49/125 [00:01<00:02, 35.60it/s]\u001b[A\n",
            "Eval:  42%|████▏     | 53/125 [00:01<00:02, 34.80it/s]\u001b[A\n",
            "Eval:  46%|████▌     | 57/125 [00:01<00:01, 35.18it/s]\u001b[A\n",
            "Eval:  49%|████▉     | 61/125 [00:01<00:01, 35.36it/s]\u001b[A\n",
            "Eval:  52%|█████▏    | 65/125 [00:01<00:01, 34.85it/s]\u001b[A\n",
            "Eval:  55%|█████▌    | 69/125 [00:02<00:01, 34.07it/s]\u001b[A\n",
            "Eval:  58%|█████▊    | 73/125 [00:02<00:01, 33.44it/s]\u001b[A\n",
            "Eval:  62%|██████▏   | 77/125 [00:02<00:01, 32.62it/s]\u001b[A\n",
            "Eval:  65%|██████▍   | 81/125 [00:02<00:01, 32.66it/s]\u001b[A\n",
            "Eval:  68%|██████▊   | 85/125 [00:02<00:01, 32.66it/s]\u001b[A\n",
            "Eval:  71%|███████   | 89/125 [00:02<00:01, 32.28it/s]\u001b[A\n",
            "Eval:  74%|███████▍  | 93/125 [00:02<00:01, 31.92it/s]\u001b[A\n",
            "Eval:  78%|███████▊  | 97/125 [00:02<00:00, 32.33it/s]\u001b[A\n",
            "Eval:  81%|████████  | 101/125 [00:03<00:00, 32.17it/s]\u001b[A\n",
            "Eval:  84%|████████▍ | 105/125 [00:03<00:00, 32.30it/s]\u001b[A\n",
            "Eval:  87%|████████▋ | 109/125 [00:03<00:00, 32.36it/s]\u001b[A\n",
            "Eval:  90%|█████████ | 113/125 [00:03<00:00, 31.75it/s]\u001b[A\n",
            "Eval:  94%|█████████▎| 117/125 [00:03<00:00, 31.86it/s]\u001b[A\n",
            "Eval:  97%|█████████▋| 121/125 [00:03<00:00, 32.17it/s]\u001b[A\n",
            "Eval: 100%|██████████| 125/125 [00:03<00:00, 32.38it/s]\u001b[A\n",
            "Epoch 2: 100%|█████████▉| 13850/13852 [23:55<00:00,  9.36batch/s, loss=0.00227]\n",
            "Eval:   0%|          | 0/125 [00:00<?, ?it/s]\u001b[A\n",
            "Eval:   1%|          | 1/125 [00:00<00:13,  9.14it/s]\u001b[A\n",
            "Eval:   3%|▎         | 4/125 [00:00<00:05, 20.60it/s]\u001b[A\n",
            "Eval:   6%|▋         | 8/125 [00:00<00:04, 28.33it/s]\u001b[A\n",
            "Eval:  10%|▉         | 12/125 [00:00<00:03, 30.77it/s]\u001b[A\n",
            "Eval:  13%|█▎        | 16/125 [00:00<00:03, 32.83it/s]\u001b[A\n",
            "Eval:  16%|█▌        | 20/125 [00:00<00:03, 33.15it/s]\u001b[A\n",
            "Eval:  19%|█▉        | 24/125 [00:00<00:02, 33.67it/s]\u001b[A\n",
            "Eval:  22%|██▏       | 28/125 [00:00<00:02, 34.80it/s]\u001b[A\n",
            "Eval:  26%|██▌       | 32/125 [00:01<00:02, 34.40it/s]\u001b[A\n",
            "Eval:  29%|██▉       | 36/125 [00:01<00:02, 35.85it/s]\u001b[A\n",
            "Eval:  32%|███▏      | 40/125 [00:01<00:02, 35.24it/s]\u001b[A\n",
            "Eval:  35%|███▌      | 44/125 [00:01<00:02, 35.43it/s]\u001b[A\n",
            "Eval:  38%|███▊      | 48/125 [00:01<00:02, 35.27it/s]\u001b[A\n",
            "Eval:  42%|████▏     | 52/125 [00:01<00:02, 35.08it/s]\u001b[A\n",
            "Eval:  45%|████▍     | 56/125 [00:01<00:01, 35.54it/s]\u001b[A\n",
            "Eval:  48%|████▊     | 60/125 [00:01<00:01, 36.30it/s]\u001b[A\n",
            "Eval:  51%|█████     | 64/125 [00:01<00:01, 35.78it/s]\u001b[A\n",
            "Eval:  54%|█████▍    | 68/125 [00:02<00:01, 35.01it/s]\u001b[A\n",
            "Eval:  58%|█████▊    | 72/125 [00:02<00:01, 33.88it/s]\u001b[A\n",
            "Eval:  61%|██████    | 76/125 [00:02<00:01, 32.67it/s]\u001b[A\n",
            "Eval:  64%|██████▍   | 80/125 [00:02<00:01, 32.80it/s]\u001b[A\n",
            "Eval:  67%|██████▋   | 84/125 [00:02<00:01, 32.70it/s]\u001b[A\n",
            "Eval:  70%|███████   | 88/125 [00:02<00:01, 32.38it/s]\u001b[A\n",
            "Eval:  74%|███████▎  | 92/125 [00:02<00:01, 32.33it/s]\u001b[A\n",
            "Eval:  77%|███████▋  | 96/125 [00:02<00:00, 32.19it/s]\u001b[A\n",
            "Eval:  80%|████████  | 100/125 [00:03<00:00, 32.59it/s]\u001b[A\n",
            "Eval:  83%|████████▎ | 104/125 [00:03<00:00, 32.75it/s]\u001b[A\n",
            "Eval:  86%|████████▋ | 108/125 [00:03<00:00, 32.39it/s]\u001b[A\n",
            "Eval:  90%|████████▉ | 112/125 [00:03<00:00, 31.61it/s]\u001b[A\n",
            "Eval:  93%|█████████▎| 116/125 [00:03<00:00, 31.42it/s]\u001b[A\n",
            "Eval:  96%|█████████▌| 120/125 [00:03<00:00, 31.73it/s]\u001b[A\n",
            "Eval:  99%|█████████▉| 124/125 [00:03<00:00, 32.15it/s]\u001b[A\n",
            "Epoch 2: 100%|██████████| 13852/13852 [23:59<00:00,  9.62batch/s, loss=0.00348]"
          ]
        },
        {
          "output_type": "stream",
          "name": "stdout",
          "text": [
            "Time: 4324.959753751755\n"
          ]
        },
        {
          "output_type": "stream",
          "name": "stderr",
          "text": [
            "\n"
          ]
        }
      ],
      "source": [
        "\n",
        "init_time=time()\n",
        "lowest_valid_loss = 9999.\n",
        "\n",
        "train_acc = []\n",
        "train_loss = []\n",
        "valid_acc = []\n",
        "valid_loss = []\n",
        "\n",
        "\n",
        "curr_train_loss = [] \n",
        "curr_train_acc = [] \n",
        "\n",
        "report_to =\"wandb\" \n",
        "\n",
        "\n",
        "\n",
        "for epoch in range(train_epoch):\n",
        "    with tqdm(train_loader, unit=\"batch\") as tepoch:\n",
        "        for iteration, (input_ids, attention_mask, token_type_ids, position_ids, labels) in enumerate(tepoch):\n",
        "            tepoch.set_description(f\"Epoch {epoch}\")\n",
        "            input_ids = input_ids.to(device)\n",
        "            attention_mask = attention_mask.to(device)\n",
        "            token_type_ids = token_type_ids.to(device)\n",
        "            position_ids = position_ids.to(device)\n",
        "            labels = labels.to(device, dtype=torch.long)\n",
        "\n",
        "            optimizer.zero_grad()\n",
        "            \n",
        "            output = model(input_ids=input_ids,\n",
        "                           attention_mask=attention_mask,\n",
        "                           token_type_ids=token_type_ids,\n",
        "                           position_ids=position_ids, \n",
        "                           labels=labels)\n",
        "            loss = output.loss\n",
        "\n",
        "\n",
        "            logits = output.logits\n",
        "            batch_predictions = [0 if example[0] > example[1] else 1 for example in logits]\n",
        "            batch_labels = [int(example) for example in labels]\n",
        "            \n",
        "            acc = compute_acc(batch_predictions, batch_labels)\n",
        "            \n",
        "\n",
        "\n",
        "\n",
        "            loss.backward()\n",
        "\n",
        "            optimizer.step()\n",
        "\n",
        "\n",
        "            curr_train_loss.append(loss.item())\n",
        "            curr_train_acc.append(acc)\n",
        "\n",
        "\n",
        "\n",
        "            tepoch.set_postfix(loss=loss.item())\n",
        "            if iteration != 0 and iteration % int(len(train_loader) / 5) == 0:\n",
        "                # Evaluate the model five times per epoch\n",
        "                with torch.no_grad():\n",
        "                    model.eval()\n",
        "                    curr_valid_loss = []   # valid_losses 수정 \n",
        "                    curr_valid_acc = []  \n",
        "                     \n",
        "\n",
        "                    for input_ids, attention_mask, token_type_ids, position_ids, labels in tqdm(dev_loader,\n",
        "                                                                                                desc='Eval',\n",
        "                                                                                                position=1,\n",
        "                                                                                                leave=None):\n",
        "                        input_ids = input_ids.to(device)\n",
        "                        attention_mask = attention_mask.to(device)\n",
        "                        token_type_ids = token_type_ids.to(device)\n",
        "                        position_ids = position_ids.to(device)\n",
        "                        labels = labels.to(device, dtype=torch.long)\n",
        "\n",
        "                        output = model(input_ids=input_ids,\n",
        "                                       attention_mask=attention_mask,\n",
        "                                       token_type_ids=token_type_ids,\n",
        "                                       position_ids=position_ids,\n",
        "                                       labels=labels)\n",
        "\n",
        "                        logits = output.logits\n",
        "                        loss = output.loss\n",
        "\n",
        "                        batch_predictions = [0 if example[0] > example[1] else 1 for example in logits]\n",
        "                        batch_labels = [int(example) for example in labels]\n",
        "\n",
        "\n",
        "                        curr_valid_loss.append(loss.item())\n",
        "                        curr_valid_acc.append(compute_acc(batch_predictions, batch_labels))\n",
        "\n",
        "                \n",
        "\n",
        "                # loss /acc 계산\n",
        "                mean_train_acc = sum(curr_train_acc) / len(curr_train_acc)\n",
        "                mean_train_loss = sum(curr_train_loss) / len(curr_train_loss)\n",
        "                mean_valid_acc = sum(curr_valid_acc) / len(curr_valid_acc)\n",
        "                mean_valid_loss = sum(curr_valid_loss) / len(curr_valid_loss)\n",
        "\n",
        "                train_acc.append(mean_train_acc)\n",
        "                train_loss.append(mean_train_loss)\n",
        "                valid_acc.append(mean_valid_acc)\n",
        "                valid_loss.append(mean_valid_loss)\n",
        "                \n",
        "                curr_train_acc = [] \n",
        "                curr_train_loss = [] \n",
        "\n",
        "                # wandb log 수집 \n",
        "\n",
        "                wandb.log({ \n",
        "                        \"Train Loss\": mean_train_loss,\n",
        "                        \"Train Accuracy\": mean_train_acc,\n",
        "                        \"Valid Loss\" : mean_valid_loss, \n",
        "                        \"Valid Accuracy\" : mean_valid_acc\n",
        "\n",
        "                        })\n",
        "\n",
        "\n",
        "                ###############\n",
        "\n",
        "                if lowest_valid_loss > mean_valid_loss:\n",
        "                    lowest_valid_loss = mean_valid_loss\n",
        "                    print('Acc for model which have lower valid loss: ', mean_valid_acc)\n",
        "                    torch.save(model.state_dict(), \"./pytorch_model.bin\")\n",
        "\n",
        "\n",
        "\n",
        "fin_time=time()\n",
        "print('Time:',fin_time-init_time)"
      ]
    },
    {
      "cell_type": "markdown",
      "source": [
        "# 3. Test"
      ],
      "metadata": {
        "id": "WSkh7capT7bm"
      }
    },
    {
      "cell_type": "code",
      "execution_count": null,
      "metadata": {
        "id": "P95gtlnurvgX"
      },
      "outputs": [],
      "source": [
        "import pandas as pd\n",
        "test_df = pd.read_csv('test_no_label.csv')"
      ]
    },
    {
      "cell_type": "code",
      "execution_count": null,
      "metadata": {
        "id": "cLDzC10ErvgX"
      },
      "outputs": [],
      "source": [
        "test_dataset = test_df['Id']"
      ]
    },
    {
      "cell_type": "code",
      "execution_count": null,
      "metadata": {
        "id": "jnt693N0rvgX"
      },
      "outputs": [],
      "source": [
        "def make_id_file_test(tokenizer, test_dataset, cased):\n",
        "    data_strings = []\n",
        "    id_file_data = [tokenizer.encode(sent if cased else sent.lower()) for sent in test_dataset]\n",
        "    for item in id_file_data:\n",
        "        data_strings.append(' '.join([str(k) for k in item]))\n",
        "    return data_strings"
      ]
    },
    {
      "cell_type": "code",
      "execution_count": null,
      "metadata": {
        "id": "7C5PpXtlrvgY"
      },
      "outputs": [],
      "source": [
        "test = make_id_file_test(tokenizer, test_dataset, cased)"
      ]
    },
    {
      "cell_type": "code",
      "execution_count": null,
      "metadata": {
        "id": "cZi14gnnrvgY"
      },
      "outputs": [],
      "source": [
        "class SentimentTestDataset(object):\n",
        "    def __init__(self, tokenizer, test):\n",
        "        self.tokenizer = tokenizer\n",
        "        self.data = []\n",
        "\n",
        "        for sent in test:\n",
        "            self.data += [self._cast_to_int(sent.strip().split())]\n",
        "\n",
        "    def _cast_to_int(self, sample):\n",
        "        return [int(word_id) for word_id in sample]\n",
        "\n",
        "    def __len__(self):\n",
        "        return len(self.data)\n",
        "\n",
        "    def __getitem__(self, index):\n",
        "        sample = self.data[index]\n",
        "        return np.array(sample)"
      ]
    },
    {
      "cell_type": "code",
      "execution_count": null,
      "metadata": {
        "id": "erHjGE9rrvgY"
      },
      "outputs": [],
      "source": [
        "test_dataset = SentimentTestDataset(tokenizer, test)"
      ]
    },
    {
      "cell_type": "code",
      "execution_count": null,
      "metadata": {
        "id": "y03-nDX9rvgZ"
      },
      "outputs": [],
      "source": [
        "def collate_fn_style_test(samples):\n",
        "    input_ids = samples\n",
        "    max_len = max(len(input_id) for input_id in input_ids)\n",
        "    attention_mask = torch.tensor(\n",
        "        [[1] * len(input_id) + [0] * (max_len - len(input_id)) for input_id in\n",
        "         input_ids])\n",
        "    input_ids = pad_sequence([torch.tensor(input_id) for input_id in input_ids],\n",
        "                             batch_first=True)\n",
        "    \n",
        "    \n",
        "    token_type_ids = torch.tensor([[0] * len(input_id) for input_id in input_ids])\n",
        "    position_ids = torch.tensor([list(range(len(input_id))) for input_id in input_ids])\n",
        "\n",
        "    return input_ids, attention_mask, token_type_ids, position_ids"
      ]
    },
    {
      "cell_type": "code",
      "execution_count": null,
      "metadata": {
        "id": "gZ0l1HparvgZ"
      },
      "outputs": [],
      "source": [
        "test_loader = torch.utils.data.DataLoader(test_dataset, batch_size=test_batch_size,\n",
        "                                          shuffle=False, collate_fn=collate_fn_style_test,\n",
        "                                          num_workers=2)"
      ]
    },
    {
      "cell_type": "code",
      "execution_count": null,
      "metadata": {
        "id": "XoSHTbJUrvgZ",
        "colab": {
          "base_uri": "https://localhost:8080/"
        },
        "outputId": "3180ceef-98a4-41b4-eb99-bab90ff4733b"
      },
      "outputs": [
        {
          "output_type": "stream",
          "name": "stderr",
          "text": [
            "\n",
            "Test:   0%|          | 0/32 [00:00<?, ?it/s]\u001b[A\n",
            "Test:   3%|▎         | 1/32 [00:00<00:03,  9.24it/s]\u001b[A\n",
            "Test:  12%|█▎        | 4/32 [00:00<00:01, 20.78it/s]\u001b[A\n",
            "Test:  25%|██▌       | 8/32 [00:00<00:00, 25.99it/s]\u001b[A\n",
            "Test:  38%|███▊      | 12/32 [00:00<00:00, 29.56it/s]\u001b[A\n",
            "Test:  50%|█████     | 16/32 [00:00<00:00, 31.05it/s]\u001b[A\n",
            "Test:  62%|██████▎   | 20/32 [00:00<00:00, 32.83it/s]\u001b[A\n",
            "Test:  75%|███████▌  | 24/32 [00:00<00:00, 33.82it/s]\u001b[A\n",
            "Test:  88%|████████▊ | 28/32 [00:00<00:00, 34.44it/s]\u001b[A\n",
            "                                                     \u001b[A"
          ]
        }
      ],
      "source": [
        "with torch.no_grad():\n",
        "    model.eval()\n",
        "    predictions = []\n",
        "    for input_ids, attention_mask, token_type_ids, position_ids in tqdm(test_loader,\n",
        "                                                                        desc='Test',\n",
        "                                                                        position=1,\n",
        "                                                                        leave=None):\n",
        "\n",
        "        input_ids = input_ids.to(device)\n",
        "        attention_mask = attention_mask.to(device)\n",
        "        token_type_ids = token_type_ids.to(device)\n",
        "        position_ids = position_ids.to(device)\n",
        "\n",
        "        output = model(input_ids=input_ids,\n",
        "                       attention_mask=attention_mask,\n",
        "                       token_type_ids=token_type_ids,\n",
        "                       position_ids=position_ids)\n",
        "\n",
        "        logits = output.logits\n",
        "        batch_predictions = [0 if example[0] > example[1] else 1 for example in logits]\n",
        "        predictions += batch_predictions"
      ]
    },
    {
      "cell_type": "code",
      "execution_count": null,
      "metadata": {
        "id": "tGO3aS-VrvgZ"
      },
      "outputs": [],
      "source": [
        "test_df['Category'] = predictions"
      ]
    },
    {
      "cell_type": "code",
      "execution_count": null,
      "metadata": {
        "id": "VndXxal3rvgZ"
      },
      "outputs": [],
      "source": [
        "test_df.to_csv('submission_uncased.csv', index=False)"
      ]
    },
    {
      "cell_type": "code",
      "source": [
        "test_df['Category'].value_counts()"
      ],
      "metadata": {
        "colab": {
          "base_uri": "https://localhost:8080/"
        },
        "id": "Ai001xoCayIg",
        "outputId": "008d972d-8538-46a1-b69d-06a9809a4c7e"
      },
      "execution_count": null,
      "outputs": [
        {
          "output_type": "execute_result",
          "data": {
            "text/plain": [
              "1    504\n",
              "0    496\n",
              "Name: Category, dtype: int64"
            ]
          },
          "metadata": {},
          "execution_count": 33
        }
      ]
    }
  ],
  "metadata": {
    "accelerator": "GPU",
    "colab": {
      "background_execution": "on",
      "collapsed_sections": [],
      "provenance": [],
      "include_colab_link": true
    },
    "gpuClass": "standard",
    "kernelspec": {
      "display_name": "Python 3",
      "language": "python",
      "name": "python3"
    },
    "language_info": {
      "codemirror_mode": {
        "name": "ipython",
        "version": 3
      },
      "file_extension": ".py",
      "mimetype": "text/x-python",
      "name": "python",
      "nbconvert_exporter": "python",
      "pygments_lexer": "ipython3",
      "version": "3.6.4"
    },
    "widgets": {
      "application/vnd.jupyter.widget-state+json": {
        "19122a5f5fac4ef6873627438f323959": {
          "model_module": "@jupyter-widgets/controls",
          "model_name": "HBoxModel",
          "model_module_version": "1.5.0",
          "state": {
            "_dom_classes": [],
            "_model_module": "@jupyter-widgets/controls",
            "_model_module_version": "1.5.0",
            "_model_name": "HBoxModel",
            "_view_count": null,
            "_view_module": "@jupyter-widgets/controls",
            "_view_module_version": "1.5.0",
            "_view_name": "HBoxView",
            "box_style": "",
            "children": [
              "IPY_MODEL_3c93b5d224434a6a931ab9ec6ea61889",
              "IPY_MODEL_4571620ba18e4da1a6b8e48e62c643ce",
              "IPY_MODEL_ca9d7476746e4b2dbc56d80fc10a1a7d"
            ],
            "layout": "IPY_MODEL_33494b52a6ef4ac89cb1d5e08ca18bce"
          }
        },
        "3c93b5d224434a6a931ab9ec6ea61889": {
          "model_module": "@jupyter-widgets/controls",
          "model_name": "HTMLModel",
          "model_module_version": "1.5.0",
          "state": {
            "_dom_classes": [],
            "_model_module": "@jupyter-widgets/controls",
            "_model_module_version": "1.5.0",
            "_model_name": "HTMLModel",
            "_view_count": null,
            "_view_module": "@jupyter-widgets/controls",
            "_view_module_version": "1.5.0",
            "_view_name": "HTMLView",
            "description": "",
            "description_tooltip": null,
            "layout": "IPY_MODEL_85c5f26acf7a42fd86655ab2bac657be",
            "placeholder": "​",
            "style": "IPY_MODEL_0c1d9a16032041a9b052e277e28bf5c4",
            "value": "Downloading: 100%"
          }
        },
        "4571620ba18e4da1a6b8e48e62c643ce": {
          "model_module": "@jupyter-widgets/controls",
          "model_name": "FloatProgressModel",
          "model_module_version": "1.5.0",
          "state": {
            "_dom_classes": [],
            "_model_module": "@jupyter-widgets/controls",
            "_model_module_version": "1.5.0",
            "_model_name": "FloatProgressModel",
            "_view_count": null,
            "_view_module": "@jupyter-widgets/controls",
            "_view_module_version": "1.5.0",
            "_view_name": "ProgressView",
            "bar_style": "success",
            "description": "",
            "description_tooltip": null,
            "layout": "IPY_MODEL_8d465a9bd8b6459f81f7bb6c01c5b9e3",
            "max": 231508,
            "min": 0,
            "orientation": "horizontal",
            "style": "IPY_MODEL_5635b03a02c944708472c0d3bc130f5b",
            "value": 231508
          }
        },
        "ca9d7476746e4b2dbc56d80fc10a1a7d": {
          "model_module": "@jupyter-widgets/controls",
          "model_name": "HTMLModel",
          "model_module_version": "1.5.0",
          "state": {
            "_dom_classes": [],
            "_model_module": "@jupyter-widgets/controls",
            "_model_module_version": "1.5.0",
            "_model_name": "HTMLModel",
            "_view_count": null,
            "_view_module": "@jupyter-widgets/controls",
            "_view_module_version": "1.5.0",
            "_view_name": "HTMLView",
            "description": "",
            "description_tooltip": null,
            "layout": "IPY_MODEL_53843fe440674014b8d871cc7ce5ea9c",
            "placeholder": "​",
            "style": "IPY_MODEL_f24921fd38e24bb2bf0d73c7b607206b",
            "value": " 226k/226k [00:00&lt;00:00, 566kB/s]"
          }
        },
        "33494b52a6ef4ac89cb1d5e08ca18bce": {
          "model_module": "@jupyter-widgets/base",
          "model_name": "LayoutModel",
          "model_module_version": "1.2.0",
          "state": {
            "_model_module": "@jupyter-widgets/base",
            "_model_module_version": "1.2.0",
            "_model_name": "LayoutModel",
            "_view_count": null,
            "_view_module": "@jupyter-widgets/base",
            "_view_module_version": "1.2.0",
            "_view_name": "LayoutView",
            "align_content": null,
            "align_items": null,
            "align_self": null,
            "border": null,
            "bottom": null,
            "display": null,
            "flex": null,
            "flex_flow": null,
            "grid_area": null,
            "grid_auto_columns": null,
            "grid_auto_flow": null,
            "grid_auto_rows": null,
            "grid_column": null,
            "grid_gap": null,
            "grid_row": null,
            "grid_template_areas": null,
            "grid_template_columns": null,
            "grid_template_rows": null,
            "height": null,
            "justify_content": null,
            "justify_items": null,
            "left": null,
            "margin": null,
            "max_height": null,
            "max_width": null,
            "min_height": null,
            "min_width": null,
            "object_fit": null,
            "object_position": null,
            "order": null,
            "overflow": null,
            "overflow_x": null,
            "overflow_y": null,
            "padding": null,
            "right": null,
            "top": null,
            "visibility": null,
            "width": null
          }
        },
        "85c5f26acf7a42fd86655ab2bac657be": {
          "model_module": "@jupyter-widgets/base",
          "model_name": "LayoutModel",
          "model_module_version": "1.2.0",
          "state": {
            "_model_module": "@jupyter-widgets/base",
            "_model_module_version": "1.2.0",
            "_model_name": "LayoutModel",
            "_view_count": null,
            "_view_module": "@jupyter-widgets/base",
            "_view_module_version": "1.2.0",
            "_view_name": "LayoutView",
            "align_content": null,
            "align_items": null,
            "align_self": null,
            "border": null,
            "bottom": null,
            "display": null,
            "flex": null,
            "flex_flow": null,
            "grid_area": null,
            "grid_auto_columns": null,
            "grid_auto_flow": null,
            "grid_auto_rows": null,
            "grid_column": null,
            "grid_gap": null,
            "grid_row": null,
            "grid_template_areas": null,
            "grid_template_columns": null,
            "grid_template_rows": null,
            "height": null,
            "justify_content": null,
            "justify_items": null,
            "left": null,
            "margin": null,
            "max_height": null,
            "max_width": null,
            "min_height": null,
            "min_width": null,
            "object_fit": null,
            "object_position": null,
            "order": null,
            "overflow": null,
            "overflow_x": null,
            "overflow_y": null,
            "padding": null,
            "right": null,
            "top": null,
            "visibility": null,
            "width": null
          }
        },
        "0c1d9a16032041a9b052e277e28bf5c4": {
          "model_module": "@jupyter-widgets/controls",
          "model_name": "DescriptionStyleModel",
          "model_module_version": "1.5.0",
          "state": {
            "_model_module": "@jupyter-widgets/controls",
            "_model_module_version": "1.5.0",
            "_model_name": "DescriptionStyleModel",
            "_view_count": null,
            "_view_module": "@jupyter-widgets/base",
            "_view_module_version": "1.2.0",
            "_view_name": "StyleView",
            "description_width": ""
          }
        },
        "8d465a9bd8b6459f81f7bb6c01c5b9e3": {
          "model_module": "@jupyter-widgets/base",
          "model_name": "LayoutModel",
          "model_module_version": "1.2.0",
          "state": {
            "_model_module": "@jupyter-widgets/base",
            "_model_module_version": "1.2.0",
            "_model_name": "LayoutModel",
            "_view_count": null,
            "_view_module": "@jupyter-widgets/base",
            "_view_module_version": "1.2.0",
            "_view_name": "LayoutView",
            "align_content": null,
            "align_items": null,
            "align_self": null,
            "border": null,
            "bottom": null,
            "display": null,
            "flex": null,
            "flex_flow": null,
            "grid_area": null,
            "grid_auto_columns": null,
            "grid_auto_flow": null,
            "grid_auto_rows": null,
            "grid_column": null,
            "grid_gap": null,
            "grid_row": null,
            "grid_template_areas": null,
            "grid_template_columns": null,
            "grid_template_rows": null,
            "height": null,
            "justify_content": null,
            "justify_items": null,
            "left": null,
            "margin": null,
            "max_height": null,
            "max_width": null,
            "min_height": null,
            "min_width": null,
            "object_fit": null,
            "object_position": null,
            "order": null,
            "overflow": null,
            "overflow_x": null,
            "overflow_y": null,
            "padding": null,
            "right": null,
            "top": null,
            "visibility": null,
            "width": null
          }
        },
        "5635b03a02c944708472c0d3bc130f5b": {
          "model_module": "@jupyter-widgets/controls",
          "model_name": "ProgressStyleModel",
          "model_module_version": "1.5.0",
          "state": {
            "_model_module": "@jupyter-widgets/controls",
            "_model_module_version": "1.5.0",
            "_model_name": "ProgressStyleModel",
            "_view_count": null,
            "_view_module": "@jupyter-widgets/base",
            "_view_module_version": "1.2.0",
            "_view_name": "StyleView",
            "bar_color": null,
            "description_width": ""
          }
        },
        "53843fe440674014b8d871cc7ce5ea9c": {
          "model_module": "@jupyter-widgets/base",
          "model_name": "LayoutModel",
          "model_module_version": "1.2.0",
          "state": {
            "_model_module": "@jupyter-widgets/base",
            "_model_module_version": "1.2.0",
            "_model_name": "LayoutModel",
            "_view_count": null,
            "_view_module": "@jupyter-widgets/base",
            "_view_module_version": "1.2.0",
            "_view_name": "LayoutView",
            "align_content": null,
            "align_items": null,
            "align_self": null,
            "border": null,
            "bottom": null,
            "display": null,
            "flex": null,
            "flex_flow": null,
            "grid_area": null,
            "grid_auto_columns": null,
            "grid_auto_flow": null,
            "grid_auto_rows": null,
            "grid_column": null,
            "grid_gap": null,
            "grid_row": null,
            "grid_template_areas": null,
            "grid_template_columns": null,
            "grid_template_rows": null,
            "height": null,
            "justify_content": null,
            "justify_items": null,
            "left": null,
            "margin": null,
            "max_height": null,
            "max_width": null,
            "min_height": null,
            "min_width": null,
            "object_fit": null,
            "object_position": null,
            "order": null,
            "overflow": null,
            "overflow_x": null,
            "overflow_y": null,
            "padding": null,
            "right": null,
            "top": null,
            "visibility": null,
            "width": null
          }
        },
        "f24921fd38e24bb2bf0d73c7b607206b": {
          "model_module": "@jupyter-widgets/controls",
          "model_name": "DescriptionStyleModel",
          "model_module_version": "1.5.0",
          "state": {
            "_model_module": "@jupyter-widgets/controls",
            "_model_module_version": "1.5.0",
            "_model_name": "DescriptionStyleModel",
            "_view_count": null,
            "_view_module": "@jupyter-widgets/base",
            "_view_module_version": "1.2.0",
            "_view_name": "StyleView",
            "description_width": ""
          }
        },
        "e2f4972cae5841cf911a812b3a9c7315": {
          "model_module": "@jupyter-widgets/controls",
          "model_name": "HBoxModel",
          "model_module_version": "1.5.0",
          "state": {
            "_dom_classes": [],
            "_model_module": "@jupyter-widgets/controls",
            "_model_module_version": "1.5.0",
            "_model_name": "HBoxModel",
            "_view_count": null,
            "_view_module": "@jupyter-widgets/controls",
            "_view_module_version": "1.5.0",
            "_view_name": "HBoxView",
            "box_style": "",
            "children": [
              "IPY_MODEL_93d9e7911e2d44148eabd505c31af668",
              "IPY_MODEL_f27fb91eadb448e18db025845e6b9251",
              "IPY_MODEL_64aa5759b7ea4309871d87c2ad90ccdd"
            ],
            "layout": "IPY_MODEL_27b9b2b68e3848059e260b0fd31bf891"
          }
        },
        "93d9e7911e2d44148eabd505c31af668": {
          "model_module": "@jupyter-widgets/controls",
          "model_name": "HTMLModel",
          "model_module_version": "1.5.0",
          "state": {
            "_dom_classes": [],
            "_model_module": "@jupyter-widgets/controls",
            "_model_module_version": "1.5.0",
            "_model_name": "HTMLModel",
            "_view_count": null,
            "_view_module": "@jupyter-widgets/controls",
            "_view_module_version": "1.5.0",
            "_view_name": "HTMLView",
            "description": "",
            "description_tooltip": null,
            "layout": "IPY_MODEL_e945fd373c994108a758025f92d77f59",
            "placeholder": "​",
            "style": "IPY_MODEL_6809edc69f254734a81183da77884b2c",
            "value": "Downloading: 100%"
          }
        },
        "f27fb91eadb448e18db025845e6b9251": {
          "model_module": "@jupyter-widgets/controls",
          "model_name": "FloatProgressModel",
          "model_module_version": "1.5.0",
          "state": {
            "_dom_classes": [],
            "_model_module": "@jupyter-widgets/controls",
            "_model_module_version": "1.5.0",
            "_model_name": "FloatProgressModel",
            "_view_count": null,
            "_view_module": "@jupyter-widgets/controls",
            "_view_module_version": "1.5.0",
            "_view_name": "ProgressView",
            "bar_style": "success",
            "description": "",
            "description_tooltip": null,
            "layout": "IPY_MODEL_5d0785562f70489c8f7aea7fd3d68b0d",
            "max": 28,
            "min": 0,
            "orientation": "horizontal",
            "style": "IPY_MODEL_0b25c422f9084c778c6418a04b5f4580",
            "value": 28
          }
        },
        "64aa5759b7ea4309871d87c2ad90ccdd": {
          "model_module": "@jupyter-widgets/controls",
          "model_name": "HTMLModel",
          "model_module_version": "1.5.0",
          "state": {
            "_dom_classes": [],
            "_model_module": "@jupyter-widgets/controls",
            "_model_module_version": "1.5.0",
            "_model_name": "HTMLModel",
            "_view_count": null,
            "_view_module": "@jupyter-widgets/controls",
            "_view_module_version": "1.5.0",
            "_view_name": "HTMLView",
            "description": "",
            "description_tooltip": null,
            "layout": "IPY_MODEL_ab50cdaeb7414f748bff82ac922d1bf4",
            "placeholder": "​",
            "style": "IPY_MODEL_3b69460cf2a848ec93076dde360d46b4",
            "value": " 28.0/28.0 [00:00&lt;00:00, 958B/s]"
          }
        },
        "27b9b2b68e3848059e260b0fd31bf891": {
          "model_module": "@jupyter-widgets/base",
          "model_name": "LayoutModel",
          "model_module_version": "1.2.0",
          "state": {
            "_model_module": "@jupyter-widgets/base",
            "_model_module_version": "1.2.0",
            "_model_name": "LayoutModel",
            "_view_count": null,
            "_view_module": "@jupyter-widgets/base",
            "_view_module_version": "1.2.0",
            "_view_name": "LayoutView",
            "align_content": null,
            "align_items": null,
            "align_self": null,
            "border": null,
            "bottom": null,
            "display": null,
            "flex": null,
            "flex_flow": null,
            "grid_area": null,
            "grid_auto_columns": null,
            "grid_auto_flow": null,
            "grid_auto_rows": null,
            "grid_column": null,
            "grid_gap": null,
            "grid_row": null,
            "grid_template_areas": null,
            "grid_template_columns": null,
            "grid_template_rows": null,
            "height": null,
            "justify_content": null,
            "justify_items": null,
            "left": null,
            "margin": null,
            "max_height": null,
            "max_width": null,
            "min_height": null,
            "min_width": null,
            "object_fit": null,
            "object_position": null,
            "order": null,
            "overflow": null,
            "overflow_x": null,
            "overflow_y": null,
            "padding": null,
            "right": null,
            "top": null,
            "visibility": null,
            "width": null
          }
        },
        "e945fd373c994108a758025f92d77f59": {
          "model_module": "@jupyter-widgets/base",
          "model_name": "LayoutModel",
          "model_module_version": "1.2.0",
          "state": {
            "_model_module": "@jupyter-widgets/base",
            "_model_module_version": "1.2.0",
            "_model_name": "LayoutModel",
            "_view_count": null,
            "_view_module": "@jupyter-widgets/base",
            "_view_module_version": "1.2.0",
            "_view_name": "LayoutView",
            "align_content": null,
            "align_items": null,
            "align_self": null,
            "border": null,
            "bottom": null,
            "display": null,
            "flex": null,
            "flex_flow": null,
            "grid_area": null,
            "grid_auto_columns": null,
            "grid_auto_flow": null,
            "grid_auto_rows": null,
            "grid_column": null,
            "grid_gap": null,
            "grid_row": null,
            "grid_template_areas": null,
            "grid_template_columns": null,
            "grid_template_rows": null,
            "height": null,
            "justify_content": null,
            "justify_items": null,
            "left": null,
            "margin": null,
            "max_height": null,
            "max_width": null,
            "min_height": null,
            "min_width": null,
            "object_fit": null,
            "object_position": null,
            "order": null,
            "overflow": null,
            "overflow_x": null,
            "overflow_y": null,
            "padding": null,
            "right": null,
            "top": null,
            "visibility": null,
            "width": null
          }
        },
        "6809edc69f254734a81183da77884b2c": {
          "model_module": "@jupyter-widgets/controls",
          "model_name": "DescriptionStyleModel",
          "model_module_version": "1.5.0",
          "state": {
            "_model_module": "@jupyter-widgets/controls",
            "_model_module_version": "1.5.0",
            "_model_name": "DescriptionStyleModel",
            "_view_count": null,
            "_view_module": "@jupyter-widgets/base",
            "_view_module_version": "1.2.0",
            "_view_name": "StyleView",
            "description_width": ""
          }
        },
        "5d0785562f70489c8f7aea7fd3d68b0d": {
          "model_module": "@jupyter-widgets/base",
          "model_name": "LayoutModel",
          "model_module_version": "1.2.0",
          "state": {
            "_model_module": "@jupyter-widgets/base",
            "_model_module_version": "1.2.0",
            "_model_name": "LayoutModel",
            "_view_count": null,
            "_view_module": "@jupyter-widgets/base",
            "_view_module_version": "1.2.0",
            "_view_name": "LayoutView",
            "align_content": null,
            "align_items": null,
            "align_self": null,
            "border": null,
            "bottom": null,
            "display": null,
            "flex": null,
            "flex_flow": null,
            "grid_area": null,
            "grid_auto_columns": null,
            "grid_auto_flow": null,
            "grid_auto_rows": null,
            "grid_column": null,
            "grid_gap": null,
            "grid_row": null,
            "grid_template_areas": null,
            "grid_template_columns": null,
            "grid_template_rows": null,
            "height": null,
            "justify_content": null,
            "justify_items": null,
            "left": null,
            "margin": null,
            "max_height": null,
            "max_width": null,
            "min_height": null,
            "min_width": null,
            "object_fit": null,
            "object_position": null,
            "order": null,
            "overflow": null,
            "overflow_x": null,
            "overflow_y": null,
            "padding": null,
            "right": null,
            "top": null,
            "visibility": null,
            "width": null
          }
        },
        "0b25c422f9084c778c6418a04b5f4580": {
          "model_module": "@jupyter-widgets/controls",
          "model_name": "ProgressStyleModel",
          "model_module_version": "1.5.0",
          "state": {
            "_model_module": "@jupyter-widgets/controls",
            "_model_module_version": "1.5.0",
            "_model_name": "ProgressStyleModel",
            "_view_count": null,
            "_view_module": "@jupyter-widgets/base",
            "_view_module_version": "1.2.0",
            "_view_name": "StyleView",
            "bar_color": null,
            "description_width": ""
          }
        },
        "ab50cdaeb7414f748bff82ac922d1bf4": {
          "model_module": "@jupyter-widgets/base",
          "model_name": "LayoutModel",
          "model_module_version": "1.2.0",
          "state": {
            "_model_module": "@jupyter-widgets/base",
            "_model_module_version": "1.2.0",
            "_model_name": "LayoutModel",
            "_view_count": null,
            "_view_module": "@jupyter-widgets/base",
            "_view_module_version": "1.2.0",
            "_view_name": "LayoutView",
            "align_content": null,
            "align_items": null,
            "align_self": null,
            "border": null,
            "bottom": null,
            "display": null,
            "flex": null,
            "flex_flow": null,
            "grid_area": null,
            "grid_auto_columns": null,
            "grid_auto_flow": null,
            "grid_auto_rows": null,
            "grid_column": null,
            "grid_gap": null,
            "grid_row": null,
            "grid_template_areas": null,
            "grid_template_columns": null,
            "grid_template_rows": null,
            "height": null,
            "justify_content": null,
            "justify_items": null,
            "left": null,
            "margin": null,
            "max_height": null,
            "max_width": null,
            "min_height": null,
            "min_width": null,
            "object_fit": null,
            "object_position": null,
            "order": null,
            "overflow": null,
            "overflow_x": null,
            "overflow_y": null,
            "padding": null,
            "right": null,
            "top": null,
            "visibility": null,
            "width": null
          }
        },
        "3b69460cf2a848ec93076dde360d46b4": {
          "model_module": "@jupyter-widgets/controls",
          "model_name": "DescriptionStyleModel",
          "model_module_version": "1.5.0",
          "state": {
            "_model_module": "@jupyter-widgets/controls",
            "_model_module_version": "1.5.0",
            "_model_name": "DescriptionStyleModel",
            "_view_count": null,
            "_view_module": "@jupyter-widgets/base",
            "_view_module_version": "1.2.0",
            "_view_name": "StyleView",
            "description_width": ""
          }
        },
        "1220e870166c4adca23a4bb46efb62bd": {
          "model_module": "@jupyter-widgets/controls",
          "model_name": "HBoxModel",
          "model_module_version": "1.5.0",
          "state": {
            "_dom_classes": [],
            "_model_module": "@jupyter-widgets/controls",
            "_model_module_version": "1.5.0",
            "_model_name": "HBoxModel",
            "_view_count": null,
            "_view_module": "@jupyter-widgets/controls",
            "_view_module_version": "1.5.0",
            "_view_name": "HBoxView",
            "box_style": "",
            "children": [
              "IPY_MODEL_8c114053eaa840cfb5c986255f8b7c35",
              "IPY_MODEL_5c6b527c3cfa4812b0129a1240eef829",
              "IPY_MODEL_96d3ed2f3b0f46249f1a196ffdeaacca"
            ],
            "layout": "IPY_MODEL_40979c71845a40e18bd0b9159de23fcc"
          }
        },
        "8c114053eaa840cfb5c986255f8b7c35": {
          "model_module": "@jupyter-widgets/controls",
          "model_name": "HTMLModel",
          "model_module_version": "1.5.0",
          "state": {
            "_dom_classes": [],
            "_model_module": "@jupyter-widgets/controls",
            "_model_module_version": "1.5.0",
            "_model_name": "HTMLModel",
            "_view_count": null,
            "_view_module": "@jupyter-widgets/controls",
            "_view_module_version": "1.5.0",
            "_view_name": "HTMLView",
            "description": "",
            "description_tooltip": null,
            "layout": "IPY_MODEL_94916673e23e4890b9d041964778c2da",
            "placeholder": "​",
            "style": "IPY_MODEL_23b80a140b0d4a29ba471f9620d37683",
            "value": "Downloading: 100%"
          }
        },
        "5c6b527c3cfa4812b0129a1240eef829": {
          "model_module": "@jupyter-widgets/controls",
          "model_name": "FloatProgressModel",
          "model_module_version": "1.5.0",
          "state": {
            "_dom_classes": [],
            "_model_module": "@jupyter-widgets/controls",
            "_model_module_version": "1.5.0",
            "_model_name": "FloatProgressModel",
            "_view_count": null,
            "_view_module": "@jupyter-widgets/controls",
            "_view_module_version": "1.5.0",
            "_view_name": "ProgressView",
            "bar_style": "success",
            "description": "",
            "description_tooltip": null,
            "layout": "IPY_MODEL_4f92f898c4ed4247a2f01348dde6608f",
            "max": 570,
            "min": 0,
            "orientation": "horizontal",
            "style": "IPY_MODEL_2dcc8fcb92b6424d92126f4db7fcd0c0",
            "value": 570
          }
        },
        "96d3ed2f3b0f46249f1a196ffdeaacca": {
          "model_module": "@jupyter-widgets/controls",
          "model_name": "HTMLModel",
          "model_module_version": "1.5.0",
          "state": {
            "_dom_classes": [],
            "_model_module": "@jupyter-widgets/controls",
            "_model_module_version": "1.5.0",
            "_model_name": "HTMLModel",
            "_view_count": null,
            "_view_module": "@jupyter-widgets/controls",
            "_view_module_version": "1.5.0",
            "_view_name": "HTMLView",
            "description": "",
            "description_tooltip": null,
            "layout": "IPY_MODEL_806331c6fb6849ac8714f65052f0cc47",
            "placeholder": "​",
            "style": "IPY_MODEL_e3919c5c14e0446ca243268db883080b",
            "value": " 570/570 [00:00&lt;00:00, 16.8kB/s]"
          }
        },
        "40979c71845a40e18bd0b9159de23fcc": {
          "model_module": "@jupyter-widgets/base",
          "model_name": "LayoutModel",
          "model_module_version": "1.2.0",
          "state": {
            "_model_module": "@jupyter-widgets/base",
            "_model_module_version": "1.2.0",
            "_model_name": "LayoutModel",
            "_view_count": null,
            "_view_module": "@jupyter-widgets/base",
            "_view_module_version": "1.2.0",
            "_view_name": "LayoutView",
            "align_content": null,
            "align_items": null,
            "align_self": null,
            "border": null,
            "bottom": null,
            "display": null,
            "flex": null,
            "flex_flow": null,
            "grid_area": null,
            "grid_auto_columns": null,
            "grid_auto_flow": null,
            "grid_auto_rows": null,
            "grid_column": null,
            "grid_gap": null,
            "grid_row": null,
            "grid_template_areas": null,
            "grid_template_columns": null,
            "grid_template_rows": null,
            "height": null,
            "justify_content": null,
            "justify_items": null,
            "left": null,
            "margin": null,
            "max_height": null,
            "max_width": null,
            "min_height": null,
            "min_width": null,
            "object_fit": null,
            "object_position": null,
            "order": null,
            "overflow": null,
            "overflow_x": null,
            "overflow_y": null,
            "padding": null,
            "right": null,
            "top": null,
            "visibility": null,
            "width": null
          }
        },
        "94916673e23e4890b9d041964778c2da": {
          "model_module": "@jupyter-widgets/base",
          "model_name": "LayoutModel",
          "model_module_version": "1.2.0",
          "state": {
            "_model_module": "@jupyter-widgets/base",
            "_model_module_version": "1.2.0",
            "_model_name": "LayoutModel",
            "_view_count": null,
            "_view_module": "@jupyter-widgets/base",
            "_view_module_version": "1.2.0",
            "_view_name": "LayoutView",
            "align_content": null,
            "align_items": null,
            "align_self": null,
            "border": null,
            "bottom": null,
            "display": null,
            "flex": null,
            "flex_flow": null,
            "grid_area": null,
            "grid_auto_columns": null,
            "grid_auto_flow": null,
            "grid_auto_rows": null,
            "grid_column": null,
            "grid_gap": null,
            "grid_row": null,
            "grid_template_areas": null,
            "grid_template_columns": null,
            "grid_template_rows": null,
            "height": null,
            "justify_content": null,
            "justify_items": null,
            "left": null,
            "margin": null,
            "max_height": null,
            "max_width": null,
            "min_height": null,
            "min_width": null,
            "object_fit": null,
            "object_position": null,
            "order": null,
            "overflow": null,
            "overflow_x": null,
            "overflow_y": null,
            "padding": null,
            "right": null,
            "top": null,
            "visibility": null,
            "width": null
          }
        },
        "23b80a140b0d4a29ba471f9620d37683": {
          "model_module": "@jupyter-widgets/controls",
          "model_name": "DescriptionStyleModel",
          "model_module_version": "1.5.0",
          "state": {
            "_model_module": "@jupyter-widgets/controls",
            "_model_module_version": "1.5.0",
            "_model_name": "DescriptionStyleModel",
            "_view_count": null,
            "_view_module": "@jupyter-widgets/base",
            "_view_module_version": "1.2.0",
            "_view_name": "StyleView",
            "description_width": ""
          }
        },
        "4f92f898c4ed4247a2f01348dde6608f": {
          "model_module": "@jupyter-widgets/base",
          "model_name": "LayoutModel",
          "model_module_version": "1.2.0",
          "state": {
            "_model_module": "@jupyter-widgets/base",
            "_model_module_version": "1.2.0",
            "_model_name": "LayoutModel",
            "_view_count": null,
            "_view_module": "@jupyter-widgets/base",
            "_view_module_version": "1.2.0",
            "_view_name": "LayoutView",
            "align_content": null,
            "align_items": null,
            "align_self": null,
            "border": null,
            "bottom": null,
            "display": null,
            "flex": null,
            "flex_flow": null,
            "grid_area": null,
            "grid_auto_columns": null,
            "grid_auto_flow": null,
            "grid_auto_rows": null,
            "grid_column": null,
            "grid_gap": null,
            "grid_row": null,
            "grid_template_areas": null,
            "grid_template_columns": null,
            "grid_template_rows": null,
            "height": null,
            "justify_content": null,
            "justify_items": null,
            "left": null,
            "margin": null,
            "max_height": null,
            "max_width": null,
            "min_height": null,
            "min_width": null,
            "object_fit": null,
            "object_position": null,
            "order": null,
            "overflow": null,
            "overflow_x": null,
            "overflow_y": null,
            "padding": null,
            "right": null,
            "top": null,
            "visibility": null,
            "width": null
          }
        },
        "2dcc8fcb92b6424d92126f4db7fcd0c0": {
          "model_module": "@jupyter-widgets/controls",
          "model_name": "ProgressStyleModel",
          "model_module_version": "1.5.0",
          "state": {
            "_model_module": "@jupyter-widgets/controls",
            "_model_module_version": "1.5.0",
            "_model_name": "ProgressStyleModel",
            "_view_count": null,
            "_view_module": "@jupyter-widgets/base",
            "_view_module_version": "1.2.0",
            "_view_name": "StyleView",
            "bar_color": null,
            "description_width": ""
          }
        },
        "806331c6fb6849ac8714f65052f0cc47": {
          "model_module": "@jupyter-widgets/base",
          "model_name": "LayoutModel",
          "model_module_version": "1.2.0",
          "state": {
            "_model_module": "@jupyter-widgets/base",
            "_model_module_version": "1.2.0",
            "_model_name": "LayoutModel",
            "_view_count": null,
            "_view_module": "@jupyter-widgets/base",
            "_view_module_version": "1.2.0",
            "_view_name": "LayoutView",
            "align_content": null,
            "align_items": null,
            "align_self": null,
            "border": null,
            "bottom": null,
            "display": null,
            "flex": null,
            "flex_flow": null,
            "grid_area": null,
            "grid_auto_columns": null,
            "grid_auto_flow": null,
            "grid_auto_rows": null,
            "grid_column": null,
            "grid_gap": null,
            "grid_row": null,
            "grid_template_areas": null,
            "grid_template_columns": null,
            "grid_template_rows": null,
            "height": null,
            "justify_content": null,
            "justify_items": null,
            "left": null,
            "margin": null,
            "max_height": null,
            "max_width": null,
            "min_height": null,
            "min_width": null,
            "object_fit": null,
            "object_position": null,
            "order": null,
            "overflow": null,
            "overflow_x": null,
            "overflow_y": null,
            "padding": null,
            "right": null,
            "top": null,
            "visibility": null,
            "width": null
          }
        },
        "e3919c5c14e0446ca243268db883080b": {
          "model_module": "@jupyter-widgets/controls",
          "model_name": "DescriptionStyleModel",
          "model_module_version": "1.5.0",
          "state": {
            "_model_module": "@jupyter-widgets/controls",
            "_model_module_version": "1.5.0",
            "_model_name": "DescriptionStyleModel",
            "_view_count": null,
            "_view_module": "@jupyter-widgets/base",
            "_view_module_version": "1.2.0",
            "_view_name": "StyleView",
            "description_width": ""
          }
        }
      }
    }
  },
  "nbformat": 4,
  "nbformat_minor": 0
}